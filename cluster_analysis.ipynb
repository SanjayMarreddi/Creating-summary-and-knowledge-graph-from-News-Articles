{
  "nbformat": 4,
  "nbformat_minor": 0,
  "metadata": {
    "kernelspec": {
      "display_name": "Python 3",
      "language": "python",
      "name": "python3"
    },
    "language_info": {
      "codemirror_mode": {
        "name": "ipython",
        "version": 3
      },
      "file_extension": ".py",
      "mimetype": "text/x-python",
      "name": "python",
      "nbconvert_exporter": "python",
      "pygments_lexer": "ipython3",
      "version": "3.7.3"
    },
    "colab": {
      "name": "cluster_analysis.ipynb",
      "provenance": [],
      "collapsed_sections": [
        "ECNdh-5BQYm9",
        "LmNZuAl_QYp8",
        "90k-owaGQYyE",
        "eDa5s5izQYzm",
        "7wfyUEd-QY22",
        "5y1hMwMEQY4X"
      ],
      "include_colab_link": true
    }
  },
  "cells": [
    {
      "cell_type": "markdown",
      "metadata": {
        "id": "view-in-github",
        "colab_type": "text"
      },
      "source": [
        "<a href=\"https://colab.research.google.com/github/SanjayMarreddi/Creating-summary-and-knowledge-graph-from-News-Articles/blob/master/cluster_analysis.ipynb\" target=\"_parent\"><img src=\"https://colab.research.google.com/assets/colab-badge.svg\" alt=\"Open In Colab\"/></a>"
      ]
    },
    {
      "cell_type": "markdown",
      "metadata": {
        "id": "bnH0821uQYaO",
        "colab_type": "text"
      },
      "source": [
        "[home](http://www.brandonrose.org)"
      ]
    },
    {
      "cell_type": "markdown",
      "metadata": {
        "id": "i5fIm32ZQYak",
        "colab_type": "text"
      },
      "source": [
        "# Document Clustering with Python"
      ]
    },
    {
      "cell_type": "markdown",
      "metadata": {
        "id": "HNQjsQKIQYav",
        "colab_type": "text"
      },
      "source": [
        "<img src='header_short.jpg'>\n",
        "\n",
        "In this guide, I will explain how to cluster a set of documents using Python. My motivating example is to identify the latent structures within the synopses of the top 100 films of all time (per an IMDB list). See [the original post](http://www.brandonrose.org/top100) for a more detailed discussion on the example. This guide covers:\n",
        "\n",
        "<ul>\n",
        "<li> tokenizing and stemming each synopsis\n",
        "<li> transforming the corpus into vector space using [tf-idf](http://en.wikipedia.org/wiki/Tf%E2%80%93idf)\n",
        "<li> calculating cosine distance between each document as a measure of similarity\n",
        "<li> clustering the documents using the [k-means algorithm](http://en.wikipedia.org/wiki/K-means_clustering)\n",
        "<li> using [multidimensional scaling](http://en.wikipedia.org/wiki/Multidimensional_scaling) to reduce dimensionality within the corpus\n",
        "<li> plotting the clustering output using [matplotlib](http://matplotlib.org/) and [mpld3](http://mpld3.github.io/)\n",
        "<li> conducting a hierarchical clustering on the corpus using [Ward clustering](http://en.wikipedia.org/wiki/Ward%27s_method)\n",
        "<li> plotting a Ward dendrogram\n",
        "<li> topic modeling using [Latent Dirichlet Allocation (LDA)](http://en.wikipedia.org/wiki/Latent_Dirichlet_allocation)\n",
        "</ul>"
      ]
    },
    {
      "cell_type": "markdown",
      "metadata": {
        "id": "aBf6siR1QYa6",
        "colab_type": "text"
      },
      "source": [
        "## Contents"
      ]
    },
    {
      "cell_type": "markdown",
      "metadata": {
        "id": "kbBnhjugQYbP",
        "colab_type": "text"
      },
      "source": [
        "<ul>\n",
        "<li>[Stopwords, stemming, and tokenization](#Stopwords,-stemming,-and-tokenizing)\n",
        "<li>[Tf-idf and document similarity](#Tf-idf-and-document-similarity)\n",
        "<li>[K-means clustering](#K-means-clustering)\n",
        "<li>[Multidimensional scaling](#Multidimensional-scaling)\n",
        "<li>[Visualizing document clusters](#Visualizing-document-clusters)\n",
        "<li>[Hierarchical document clustering](#Hierarchical-document-clustering)\n",
        "<li>[Latent Dirichlet Allocation (LDA)](#Latent-Dirichlet-Allocation)\n",
        "</ul>"
      ]
    },
    {
      "cell_type": "markdown",
      "metadata": {
        "id": "8Ud1AmvoQYbd",
        "colab_type": "text"
      },
      "source": [
        "But first, I import everything I am going to need up front"
      ]
    },
    {
      "cell_type": "code",
      "metadata": {
        "id": "jZM4Geb_QYbn",
        "colab_type": "code",
        "colab": {}
      },
      "source": [
        "import numpy as np\n",
        "import pandas as pd\n",
        "import nltk\n",
        "from bs4 import BeautifulSoup\n",
        "import re\n",
        "import os\n",
        "import codecs\n",
        "from sklearn import feature_extraction\n",
        "import mpld3"
      ],
      "execution_count": null,
      "outputs": []
    },
    {
      "cell_type": "markdown",
      "metadata": {
        "id": "I8sP3PdsQYck",
        "colab_type": "text"
      },
      "source": [
        "# Stopwords, stemming, and tokenizing"
      ]
    },
    {
      "cell_type": "code",
      "metadata": {
        "id": "z83kA30WQYcw",
        "colab_type": "code",
        "colab": {},
        "outputId": "0401b01d-4962-4b97-cde8-3f82d2a9e663"
      },
      "source": [
        "#import three lists: titles, links and wikipedia synopses\n",
        "titles = open('title_list.txt').read().split('\\n')\n",
        "#ensures that only the first 100 are read in\n",
        "titles = titles[:100]\n",
        "\n",
        "links = open('link_list_imdb.txt').read().split('\\n')\n",
        "links = links[:100]\n",
        "\n",
        "synopses_wiki = open('synopses_list_wiki.txt').read().split('\\n BREAKS HERE')\n",
        "synopses_wiki = synopses_wiki[:100]\n",
        "\n",
        "synopses_clean_wiki = []\n",
        "for text in synopses_wiki:\n",
        "    text = BeautifulSoup(text, 'html.parser').getText()\n",
        "    #strips html formatting and converts to unicode\n",
        "    synopses_clean_wiki.append(text)\n",
        "\n",
        "synopses_wiki = synopses_clean_wiki\n",
        "    \n",
        "    \n",
        "genres = open('genres_list.txt').read().split('\\n')\n",
        "genres = genres[:100]\n",
        "\n",
        "print(str(len(titles)) + ' titles')\n",
        "print(str(len(links)) + ' links')\n",
        "print(str(len(synopses_wiki)) + ' synopses')\n",
        "print(str(len(genres)) + ' genres')"
      ],
      "execution_count": null,
      "outputs": [
        {
          "output_type": "stream",
          "text": [
            "100 titles\n",
            "100 links\n",
            "100 synopses\n",
            "100 genres\n"
          ],
          "name": "stdout"
        }
      ]
    },
    {
      "cell_type": "code",
      "metadata": {
        "id": "CQhhiyDHQYeS",
        "colab_type": "code",
        "colab": {}
      },
      "source": [
        "synopses_imdb = open('synopses_list_imdb.txt').read().split('\\n BREAKS HERE')\n",
        "synopses_imdb = synopses_imdb[:100]\n",
        "\n",
        "synopses_clean_imdb = []\n",
        "\n",
        "for text in synopses_imdb:\n",
        "    text = BeautifulSoup(text, 'html.parser').getText()\n",
        "    #strips html formatting and converts to unicode\n",
        "    synopses_clean_imdb.append(text)\n",
        "\n",
        "synopses_imdb = synopses_clean_imdb"
      ],
      "execution_count": null,
      "outputs": []
    },
    {
      "cell_type": "code",
      "metadata": {
        "id": "BLFUWn6CQYfJ",
        "colab_type": "code",
        "colab": {}
      },
      "source": [
        "synopses = []\n",
        "\n",
        "for i in range(len(synopses_wiki)):\n",
        "    item = synopses_wiki[i] + synopses_imdb[i]\n",
        "    synopses.append(item)"
      ],
      "execution_count": null,
      "outputs": []
    },
    {
      "cell_type": "code",
      "metadata": {
        "id": "nSE-XUNAQYgF",
        "colab_type": "code",
        "colab": {}
      },
      "source": [
        "# generates index for each item in the corpora (in this case it's just rank) and I'll use this for scoring later\n",
        "ranks = []\n",
        "\n",
        "for i in range(0,len(titles)):\n",
        "    ranks.append(i)"
      ],
      "execution_count": null,
      "outputs": []
    },
    {
      "cell_type": "markdown",
      "metadata": {
        "id": "1O3E7omnQYg_",
        "colab_type": "text"
      },
      "source": [
        "This section is focused on defining some functions to manipulate the synopses. First, I load [NLTK's](http://www.nltk.org/) list of English stop words. [Stop words](http://en.wikipedia.org/wiki/Stop_words) are words like \"a\", \"the\", or \"in\" which don't convey significant meaning. I'm sure there are much better explanations of this out there."
      ]
    },
    {
      "cell_type": "code",
      "metadata": {
        "id": "Noa7R2c6QYhM",
        "colab_type": "code",
        "colab": {}
      },
      "source": [
        "# load nltk's English stopwords as variable called 'stopwords'\n",
        "stopwords = nltk.corpus.stopwords.words('english')"
      ],
      "execution_count": null,
      "outputs": []
    },
    {
      "cell_type": "markdown",
      "metadata": {
        "id": "_YQpMWiGQYic",
        "colab_type": "text"
      },
      "source": [
        "Next I import the [Snowball Stemmer](http://snowball.tartarus.org/) which is actually part of NLTK. [Stemming](http://en.wikipedia.org/wiki/Stemming) is just the process of breaking a word down into its root."
      ]
    },
    {
      "cell_type": "code",
      "metadata": {
        "id": "h9OxbkfcQYiq",
        "colab_type": "code",
        "colab": {}
      },
      "source": [
        "# load nltk's SnowballStemmer as variabled 'stemmer'\n",
        "from nltk.stem.snowball import SnowballStemmer\n",
        "stemmer = SnowballStemmer(\"english\")"
      ],
      "execution_count": null,
      "outputs": []
    },
    {
      "cell_type": "markdown",
      "metadata": {
        "id": "YDsdwSoQQYjW",
        "colab_type": "text"
      },
      "source": [
        "\n",
        "Below I define two functions:\n",
        "\n",
        "<ul>\n",
        "<li> *tokenize_and_stem*: tokenizes (splits the synopsis into a list of its respective words (or tokens) and also stems each token <li> *tokenize_only*: tokenizes the synopsis only\n",
        "</ul>\n",
        "\n",
        "I use both these functions to create a dictionary which becomes important in case I want to use stems for an algorithm, but later convert stems back to their full words for presentation purposes. Guess what, I do want to do that!\n",
        "\n"
      ]
    },
    {
      "cell_type": "code",
      "metadata": {
        "id": "jy55yujMQYjj",
        "colab_type": "code",
        "colab": {}
      },
      "source": [
        "# here I define a tokenizer and stemmer which returns the set of stems in the text that it is passed\n",
        "\n",
        "def tokenize_and_stem(text):\n",
        "    # first tokenize by sentence, then by word to ensure that punctuation is caught as it's own token\n",
        "    tokens = [word for sent in nltk.sent_tokenize(text) for word in nltk.word_tokenize(sent)]\n",
        "    filtered_tokens = []\n",
        "    # filter out any tokens not containing letters (e.g., numeric tokens, raw punctuation)\n",
        "    for token in tokens:\n",
        "        if re.search('[a-zA-Z]', token):\n",
        "            filtered_tokens.append(token)\n",
        "    stems = [stemmer.stem(t) for t in filtered_tokens]\n",
        "    return stems\n",
        "\n",
        "\n",
        "def tokenize_only(text):\n",
        "    # first tokenize by sentence, then by word to ensure that punctuation is caught as it's own token\n",
        "    tokens = [word.lower() for sent in nltk.sent_tokenize(text) for word in nltk.word_tokenize(sent)]\n",
        "    filtered_tokens = []\n",
        "    # filter out any tokens not containing letters (e.g., numeric tokens, raw punctuation)\n",
        "    for token in tokens:\n",
        "        if re.search('[a-zA-Z]', token):\n",
        "            filtered_tokens.append(token)\n",
        "    return filtered_tokens"
      ],
      "execution_count": null,
      "outputs": []
    },
    {
      "cell_type": "markdown",
      "metadata": {
        "id": "-ZV0OlCDQYkY",
        "colab_type": "text"
      },
      "source": [
        "Below I use my stemming/tokenizing and tokenizing functions to iterate over the list of synopses to create two vocabularies: one stemmed and one only tokenized. "
      ]
    },
    {
      "cell_type": "code",
      "metadata": {
        "id": "hk2t6yVHQYkm",
        "colab_type": "code",
        "colab": {}
      },
      "source": [
        "totalvocab_stemmed = []\n",
        "totalvocab_tokenized = []\n",
        "for i in synopses:\n",
        "    allwords_stemmed = tokenize_and_stem(i)\n",
        "    totalvocab_stemmed.extend(allwords_stemmed)\n",
        "    \n",
        "    allwords_tokenized = tokenize_only(i)\n",
        "    totalvocab_tokenized.extend(allwords_tokenized)"
      ],
      "execution_count": null,
      "outputs": []
    },
    {
      "cell_type": "markdown",
      "metadata": {
        "id": "PK0GivZ9QYln",
        "colab_type": "text"
      },
      "source": [
        "Using these two lists, I create a pandas DataFrame with the stemmed vocabulary as the index and the tokenized words as the column. The benefit of this is it provides an efficient way to look up a stem and return a full token. The downside here is that stems to tokens are one to many: the stem 'run' could be associated with 'ran', 'runs', 'running', etc. For my purposes this is fine--I'm perfectly happy returning the first token associated with the stem I need to look up."
      ]
    },
    {
      "cell_type": "code",
      "metadata": {
        "id": "74R7WhI7QYmJ",
        "colab_type": "code",
        "colab": {}
      },
      "source": [
        "vocab_frame = pd.DataFrame({'words': totalvocab_tokenized}, index = totalvocab_stemmed)"
      ],
      "execution_count": null,
      "outputs": []
    },
    {
      "cell_type": "markdown",
      "metadata": {
        "id": "ECNdh-5BQYm9",
        "colab_type": "text"
      },
      "source": [
        "## Tf-idf and document similarity"
      ]
    },
    {
      "cell_type": "markdown",
      "metadata": {
        "id": "sREYPVPoQYnY",
        "colab_type": "text"
      },
      "source": [
        "<img src='http://www.jiem.org/index.php/jiem/article/viewFile/293/252/2402' align='right' style=\"margin-left:10px\">\n",
        "\n",
        "Here, I define term frequency-inverse document frequency (tf-idf) vectorizer parameters and then convert the *synopses* list into a tf-idf matrix. \n",
        "\n",
        "To get a Tf-idf matrix, first count word occurrences by document. This is transformed into a document-term matrix (dtm). This is also just called a term frequency matrix. An example of a dtm is here at right.\n",
        "\n",
        "Then apply the term frequency-inverse document frequency weighting: words that occur frequently within a document but not frequently within the corpus receive a higher weighting as these words are assumed to contain more meaning in relation to the document.\n",
        "\n",
        "A couple things to note about the parameters I define below:\n",
        "\n",
        "<ul>\n",
        "<li> max_df: this is the maximum frequency within the documents a given feature can have to be used in the tfi-idf matrix. If the term is in greater than 80% of the documents it probably cares little meanining (in the context of film synopses)\n",
        "<li> min_idf: this could be an integer (e.g. 5) and the term would have to be in at least 5 of the documents to be considered. Here I pass 0.2; the term must be in at least 20% of the document. I found that if I allowed a lower min_df I ended up basing clustering on names--for example \"Michael\" or \"Tom\" are names found in several of the movies and the synopses use these names frequently, but the names carry no real meaning.\n",
        "<li> ngram_range: this just means I'll look at unigrams, bigrams and trigrams. See [n-grams](http://en.wikipedia.org/wiki/N-gram)\n",
        "</ul>"
      ]
    },
    {
      "cell_type": "code",
      "metadata": {
        "id": "ZNNX81_EQYnd",
        "colab_type": "code",
        "colab": {},
        "outputId": "b09d8545-0372-4f5e-8177-c5524678a4ff"
      },
      "source": [
        "from sklearn.feature_extraction.text import TfidfVectorizer\n",
        "\n",
        "tfidf_vectorizer = TfidfVectorizer(max_df=0.8, max_features=200000,\n",
        "                                 min_df=0.2, stop_words='english',\n",
        "                                 use_idf=True, tokenizer=tokenize_and_stem, ngram_range=(1,3))\n",
        "\n",
        "%time tfidf_matrix = tfidf_vectorizer.fit_transform(synopses)\n",
        "\n",
        "print(tfidf_matrix.shape)"
      ],
      "execution_count": null,
      "outputs": [
        {
          "output_type": "stream",
          "text": [
            "CPU times: user 29 s, sys: 468 ms, total: 29.4 s\n",
            "Wall time: 35.9 s\n",
            "(100, 563)\n"
          ],
          "name": "stdout"
        }
      ]
    },
    {
      "cell_type": "code",
      "metadata": {
        "id": "3j7vv53lQYoO",
        "colab_type": "code",
        "colab": {}
      },
      "source": [
        "terms = tfidf_vectorizer.get_feature_names()"
      ],
      "execution_count": null,
      "outputs": []
    },
    {
      "cell_type": "code",
      "metadata": {
        "id": "J3ePWCkjQYo5",
        "colab_type": "code",
        "colab": {}
      },
      "source": [
        "from sklearn.metrics.pairwise import cosine_similarity\n",
        "dist = 1 - cosine_similarity(tfidf_matrix)"
      ],
      "execution_count": null,
      "outputs": []
    },
    {
      "cell_type": "markdown",
      "metadata": {
        "id": "LmNZuAl_QYp8",
        "colab_type": "text"
      },
      "source": [
        "# K-means clustering"
      ]
    },
    {
      "cell_type": "markdown",
      "metadata": {
        "id": "q33K-SGIQYqC",
        "colab_type": "text"
      },
      "source": [
        "Now onto the fun part. Using the tf-idf matrix, you can run a slew of clustering algorithms to better understand the hidden structure within the synopses. I first chose [k-means](http://en.wikipedia.org/wiki/K-means_clustering). K-means initializes with a pre-determined number of clusters (I chose 5). Each observation is assigned to a cluster (cluster assignment) so as to minimize the within cluster sum of squares. Next, the mean of the clustered observations is calculated and used as the new cluster centroid. Then, observations are reassigned to clusters and  centroids recalculated in an iterative process until the algorithm reaches convergence.\n",
        "\n",
        "I found it took several runs for the algorithm to converge a global optimum as k-means is susceptible to reaching local optima. "
      ]
    },
    {
      "cell_type": "code",
      "metadata": {
        "id": "GuuImgQhQYqR",
        "colab_type": "code",
        "colab": {},
        "outputId": "a1221840-d92d-42b6-8bd2-0af73b3d7837"
      },
      "source": [
        "from sklearn.cluster import KMeans\n",
        "\n",
        "num_clusters = 5\n",
        "\n",
        "km = KMeans(n_clusters=num_clusters)\n",
        "\n",
        "%time km.fit(tfidf_matrix)\n",
        "\n",
        "clusters = km.labels_.tolist()"
      ],
      "execution_count": null,
      "outputs": [
        {
          "output_type": "stream",
          "text": [
            "CPU times: user 210 ms, sys: 1.72 ms, total: 212 ms\n",
            "Wall time: 216 ms\n"
          ],
          "name": "stdout"
        }
      ]
    },
    {
      "cell_type": "code",
      "metadata": {
        "id": "kcfPYFhpQYs0",
        "colab_type": "code",
        "colab": {}
      },
      "source": [
        "from sklearn.externals import joblib\n",
        "\n",
        "#joblib.dump(km,  'doc_cluster.pkl')\n",
        "km = joblib.load('doc_cluster.pkl')\n",
        "clusters = km.labels_.tolist()"
      ],
      "execution_count": null,
      "outputs": []
    },
    {
      "cell_type": "code",
      "metadata": {
        "id": "2Aor8uflQYt4",
        "colab_type": "code",
        "colab": {}
      },
      "source": [
        "import pandas as pd\n",
        "\n",
        "films = { 'title': titles, 'rank': ranks, 'synopsis': synopses, 'cluster': clusters, 'genre': genres }\n",
        "\n",
        "frame = pd.DataFrame(films, index = [clusters] , columns = ['rank', 'title', 'cluster', 'genre'])"
      ],
      "execution_count": null,
      "outputs": []
    },
    {
      "cell_type": "code",
      "metadata": {
        "id": "VK1YPYDrQYuk",
        "colab_type": "code",
        "colab": {},
        "outputId": "79047f55-efee-42e8-bfa0-18b4580729ff"
      },
      "source": [
        "frame['cluster'].value_counts()"
      ],
      "execution_count": null,
      "outputs": [
        {
          "output_type": "execute_result",
          "data": {
            "text/plain": [
              "4    26\n",
              "0    25\n",
              "2    21\n",
              "1    16\n",
              "3    12\n",
              "dtype: int64"
            ]
          },
          "metadata": {
            "tags": []
          },
          "execution_count": 18
        }
      ]
    },
    {
      "cell_type": "code",
      "metadata": {
        "id": "6tyvA9HXQYu-",
        "colab_type": "code",
        "colab": {},
        "outputId": "e6ccdc76-5742-4867-f21e-8b4f1b54b9f8"
      },
      "source": [
        "grouped = frame['rank'].groupby(frame['cluster'])\n",
        "\n",
        "grouped.mean()"
      ],
      "execution_count": null,
      "outputs": [
        {
          "output_type": "execute_result",
          "data": {
            "text/plain": [
              "cluster\n",
              "0          47.200000\n",
              "1          58.875000\n",
              "2          49.380952\n",
              "3          54.500000\n",
              "4          43.730769\n",
              "dtype: float64"
            ]
          },
          "metadata": {
            "tags": []
          },
          "execution_count": 19
        }
      ]
    },
    {
      "cell_type": "code",
      "metadata": {
        "id": "V5ggMVfBQYwB",
        "colab_type": "code",
        "colab": {},
        "outputId": "00ab5b11-39c8-47c0-9d74-4eb34636ebf8"
      },
      "source": [
        "from __future__ import print_function\n",
        "\n",
        "print(\"Top terms per cluster:\")\n",
        "print()\n",
        "order_centroids = km.cluster_centers_.argsort()[:, ::-1]\n",
        "for i in range(num_clusters):\n",
        "    print(\"Cluster %d words:\" % i, end='')\n",
        "    for ind in order_centroids[i, :6]:\n",
        "        print(' %s' % vocab_frame.ix[terms[ind].split(' ')].values.tolist()[0][0].encode('utf-8', 'ignore'), end=',')\n",
        "    print()\n",
        "    print()\n",
        "    print(\"Cluster %d titles:\" % i, end='')\n",
        "    for title in frame.ix[i]['title'].values.tolist():\n",
        "        print(' %s,' % title, end='')\n",
        "    print()\n",
        "    print()"
      ],
      "execution_count": null,
      "outputs": [
        {
          "output_type": "stream",
          "text": [
            "Top terms per cluster:\n",
            "\n",
            "Cluster 0 words: family, home, mother, war, house, dies,\n",
            "\n",
            "Cluster 0 titles: Schindler's List, One Flew Over the Cuckoo's Nest, Gone with the Wind, The Wizard of Oz, Titanic, Forrest Gump, E.T. the Extra-Terrestrial, The Silence of the Lambs, Gandhi, A Streetcar Named Desire, The Best Years of Our Lives, My Fair Lady, Ben-Hur, Doctor Zhivago, The Pianist, The Exorcist, Out of Africa, Good Will Hunting, Terms of Endearment, Giant, The Grapes of Wrath, Close Encounters of the Third Kind, The Graduate, Stagecoach, Wuthering Heights,\n",
            "\n",
            "Cluster 1 words: police, car, killed, murders, driving, house,\n",
            "\n",
            "Cluster 1 titles: Casablanca, Psycho, Sunset Blvd., Vertigo, Chinatown, Amadeus, High Noon, The French Connection, Fargo, Pulp Fiction, The Maltese Falcon, A Clockwork Orange, Double Indemnity, Rebel Without a Cause, The Third Man, North by Northwest,\n",
            "\n",
            "Cluster 2 words: father, new, york, new, brothers, apartments,\n",
            "\n",
            "Cluster 2 titles: The Godfather, Raging Bull, Citizen Kane, The Godfather: Part II, On the Waterfront, 12 Angry Men, Rocky, To Kill a Mockingbird, Braveheart, The Good, the Bad and the Ugly, The Apartment, Goodfellas, City Lights, It Happened One Night, Midnight Cowboy, Mr. Smith Goes to Washington, Rain Man, Annie Hall, Network, Taxi Driver, Rear Window,\n",
            "\n",
            "Cluster 3 words: george, dance, singing, john, love, perform,\n",
            "\n",
            "Cluster 3 titles: West Side Story, Singin' in the Rain, It's a Wonderful Life, Some Like It Hot, The Philadelphia Story, An American in Paris, The King's Speech, A Place in the Sun, Tootsie, Nashville, American Graffiti, Yankee Doodle Dandy,\n",
            "\n",
            "Cluster 4 words: killed, soldiers, captain, men, army, command,\n",
            "\n",
            "Cluster 4 titles: The Shawshank Redemption, Lawrence of Arabia, The Sound of Music, Star Wars, 2001: A Space Odyssey, The Bridge on the River Kwai, Dr. Strangelove or: How I Learned to Stop Worrying and Love the Bomb, Apocalypse Now, The Lord of the Rings: The Return of the King, Gladiator, From Here to Eternity, Saving Private Ryan, Unforgiven, Raiders of the Lost Ark, Patton, Jaws, Butch Cassidy and the Sundance Kid, The Treasure of the Sierra Madre, Platoon, Dances with Wolves, The Deer Hunter, All Quiet on the Western Front, Shane, The Green Mile, The African Queen, Mutiny on the Bounty,\n",
            "\n"
          ],
          "name": "stdout"
        }
      ]
    },
    {
      "cell_type": "code",
      "metadata": {
        "id": "LDkMWPlIQYxE",
        "colab_type": "code",
        "colab": {}
      },
      "source": [
        "#This is purely to help export tables to html and to correct for my 0 start rank (so that Godfather is 1, not 0)\n",
        "frame['Rank'] = frame['rank'] + 1\n",
        "frame['Title'] = frame['title']"
      ],
      "execution_count": null,
      "outputs": []
    },
    {
      "cell_type": "code",
      "metadata": {
        "id": "KFHpmyv5QYxm",
        "colab_type": "code",
        "colab": {}
      },
      "source": [
        "#export tables to HTML\n",
        "print(frame[['Rank', 'Title']].loc[frame['cluster'] == 1].to_html(index=False))"
      ],
      "execution_count": null,
      "outputs": []
    },
    {
      "cell_type": "markdown",
      "metadata": {
        "id": "90k-owaGQYyE",
        "colab_type": "text"
      },
      "source": [
        "# Multidimensional scaling"
      ]
    },
    {
      "cell_type": "code",
      "metadata": {
        "id": "TOeKWqo8QYyI",
        "colab_type": "code",
        "colab": {}
      },
      "source": [
        "import os  # for os.path.basename\n",
        "\n",
        "import matplotlib.pyplot as plt\n",
        "import matplotlib as mpl\n",
        "\n",
        "from sklearn.manifold import MDS\n",
        "\n",
        "MDS()\n",
        "\n",
        "# two components as we're plotting points in a two-dimensional plane\n",
        "# \"precomputed\" because we provide a distance matrix\n",
        "# we will also specify `random_state` so the plot is reproducible.\n",
        "mds = MDS(n_components=2, dissimilarity=\"precomputed\", random_state=1)\n",
        "\n",
        "pos = mds.fit_transform(dist)  # shape (n_components, n_samples)\n",
        "\n",
        "xs, ys = pos[:, 0], pos[:, 1]"
      ],
      "execution_count": null,
      "outputs": []
    },
    {
      "cell_type": "code",
      "metadata": {
        "id": "SqcgSmeOQYy4",
        "colab_type": "code",
        "colab": {}
      },
      "source": [
        "#strip any proper nouns (NNP) or plural proper nouns (NNPS) from a text\n",
        "from nltk.tag import pos_tag\n",
        "\n",
        "def strip_proppers_POS(text):\n",
        "    tagged = pos_tag(text.split()) #use NLTK's part of speech tagger\n",
        "    non_propernouns = [word for word,pos in tagged if pos != 'NNP' and pos != 'NNPS']\n",
        "    return non_propernouns"
      ],
      "execution_count": null,
      "outputs": []
    },
    {
      "cell_type": "markdown",
      "metadata": {
        "id": "eDa5s5izQYzm",
        "colab_type": "text"
      },
      "source": [
        "## Visualizing document clusters"
      ]
    },
    {
      "cell_type": "code",
      "metadata": {
        "id": "Cze0VzExQYzq",
        "colab_type": "code",
        "colab": {}
      },
      "source": [
        "#set up colors per clusters using a dict\n",
        "cluster_colors = {0: '#1b9e77', 1: '#d95f02', 2: '#7570b3', 3: '#e7298a', 4: '#66a61e'}\n",
        "\n",
        "#set up cluster names using a dict\n",
        "cluster_names = {0: 'Family, home, war', \n",
        "                 1: 'Police, killed, murders', \n",
        "                 2: 'Father, New York, brothers', \n",
        "                 3: 'Dance, singing, love', \n",
        "                 4: 'Killed, soldiers, captain'}"
      ],
      "execution_count": null,
      "outputs": []
    },
    {
      "cell_type": "code",
      "metadata": {
        "id": "wKJb8RtdQY0J",
        "colab_type": "code",
        "colab": {}
      },
      "source": [
        "%matplotlib inline"
      ],
      "execution_count": null,
      "outputs": []
    },
    {
      "cell_type": "code",
      "metadata": {
        "id": "RIq_LYBEQY0o",
        "colab_type": "code",
        "colab": {},
        "outputId": "ff8b3d9f-17d7-4de6-f00c-4b31f0387152"
      },
      "source": [
        "#create data frame that has the result of the MDS plus the cluster numbers and titles\n",
        "df = pd.DataFrame(dict(x=xs, y=ys, label=clusters, title=titles)) \n",
        "\n",
        "#group by cluster\n",
        "groups = df.groupby('label')\n",
        "\n",
        "\n",
        "# set up plot\n",
        "fig, ax = plt.subplots(figsize=(17, 9)) # set size\n",
        "ax.margins(0.05) # Optional, just adds 5% padding to the autoscaling\n",
        "\n",
        "#iterate through groups to layer the plot\n",
        "#note that I use the cluster_name and cluster_color dicts with the 'name' lookup to return the appropriate color/label\n",
        "for name, group in groups:\n",
        "    ax.plot(group.x, group.y, marker='o', linestyle='', ms=12, label=cluster_names[name], color=cluster_colors[name], mec='none')\n",
        "    ax.set_aspect('auto')\n",
        "    ax.tick_params(\\\n",
        "        axis= 'x',          # changes apply to the x-axis\n",
        "        which='both',      # both major and minor ticks are affected\n",
        "        bottom='off',      # ticks along the bottom edge are off\n",
        "        top='off',         # ticks along the top edge are off\n",
        "        labelbottom='off')\n",
        "    ax.tick_params(\\\n",
        "        axis= 'y',         # changes apply to the y-axis\n",
        "        which='both',      # both major and minor ticks are affected\n",
        "        left='off',      # ticks along the bottom edge are off\n",
        "        top='off',         # ticks along the top edge are off\n",
        "        labelleft='off')\n",
        "    \n",
        "ax.legend(numpoints=1)  #show legend with only 1 point\n",
        "\n",
        "#add label in x,y position with the label as the film title\n",
        "for i in range(len(df)):\n",
        "    ax.text(df.ix[i]['x'], df.ix[i]['y'], df.ix[i]['title'], size=8)  \n",
        "\n",
        "    \n",
        "    \n",
        "plt.show() #show the plot\n",
        "\n",
        "#uncomment the below to save the plot if need be\n",
        "#plt.savefig('clusters_small_noaxes.png', dpi=200)"
      ],
      "execution_count": null,
      "outputs": [
        {
          "output_type": "display_data",
          "data": {
            "image/png": "[encoded data removed]",
            "text/plain": [
              "<matplotlib.figure.Figure at 0x10eb68d90>"
            ]
          },
          "metadata": {
            "tags": []
          }
        }
      ]
    },
    {
      "cell_type": "code",
      "metadata": {
        "id": "L407f-ISQY1G",
        "colab_type": "code",
        "colab": {}
      },
      "source": [
        "plt.close()"
      ],
      "execution_count": null,
      "outputs": []
    },
    {
      "cell_type": "markdown",
      "metadata": {
        "id": "ztccp_W6QY1x",
        "colab_type": "text"
      },
      "source": [
        "The clustering plot looks great, but it pains my eyes to see overlapping labels. Having some experience with [D3.js](http://d3js.org/) I knew one solution would be to use a browser based/javascript interactive. Fortunately, I recently stumbled upon [mpld3](https://mpld3.github.io/) a matplotlib wrapper for D3. Mpld3 basically let's you use matplotlib syntax to create web interactives. It has a really easy, high-level API for adding tooltips on mouse hover, which is what I am interested in.\n",
        "\n",
        "It also has some nice functionality for zooming and panning. The below javascript snippet basicaly defines a custom location for where the zoom/pan toggle resides. Don't worry about it too much and you actually don't need to use it, but it helped for formatting purposes when exporting to the web later. The only thing you might want to change is the x and y attr for the position of the toolbar."
      ]
    },
    {
      "cell_type": "code",
      "metadata": {
        "id": "JYFQkmLEQY19",
        "colab_type": "code",
        "colab": {}
      },
      "source": [
        "#define custom toolbar location\n",
        "class TopToolbar(mpld3.plugins.PluginBase):\n",
        "    \"\"\"Plugin for moving toolbar to top of figure\"\"\"\n",
        "\n",
        "    JAVASCRIPT = \"\"\"\n",
        "    mpld3.register_plugin(\"toptoolbar\", TopToolbar);\n",
        "    TopToolbar.prototype = Object.create(mpld3.Plugin.prototype);\n",
        "    TopToolbar.prototype.constructor = TopToolbar;\n",
        "    function TopToolbar(fig, props){\n",
        "        mpld3.Plugin.call(this, fig, props);\n",
        "    };\n",
        "\n",
        "    TopToolbar.prototype.draw = function(){\n",
        "      // the toolbar svg doesn't exist\n",
        "      // yet, so first draw it\n",
        "      this.fig.toolbar.draw();\n",
        "\n",
        "      // then change the y position to be\n",
        "      // at the top of the figure\n",
        "      this.fig.toolbar.toolbar.attr(\"x\", 150);\n",
        "      this.fig.toolbar.toolbar.attr(\"y\", 400);\n",
        "\n",
        "      // then remove the draw function,\n",
        "      // so that it is not called again\n",
        "      this.fig.toolbar.draw = function() {}\n",
        "    }\n",
        "    \"\"\"\n",
        "    def __init__(self):\n",
        "        self.dict_ = {\"type\": \"toptoolbar\"}"
      ],
      "execution_count": null,
      "outputs": []
    },
    {
      "cell_type": "code",
      "metadata": {
        "id": "3YRzA1nLQY2a",
        "colab_type": "code",
        "colab": {},
        "outputId": "2a86cfbf-9892-4afc-f20d-5ce547215725"
      },
      "source": [
        "#create data frame that has the result of the MDS plus the cluster numbers and titles\n",
        "df = pd.DataFrame(dict(x=xs, y=ys, label=clusters, title=titles)) \n",
        "\n",
        "#group by cluster\n",
        "groups = df.groupby('label')\n",
        "\n",
        "#define custom css to format the font and to remove the axis labeling\n",
        "css = \"\"\"\n",
        "text.mpld3-text, div.mpld3-tooltip {\n",
        "  font-family:Arial, Helvetica, sans-serif;\n",
        "}\n",
        "\n",
        "g.mpld3-xaxis, g.mpld3-yaxis {\n",
        "display: none; }\n",
        "\"\"\"\n",
        "\n",
        "# Plot \n",
        "fig, ax = plt.subplots(figsize=(14,6)) #set plot size\n",
        "ax.margins(0.03) # Optional, just adds 5% padding to the autoscaling\n",
        "\n",
        "#iterate through groups to layer the plot\n",
        "#note that I use the cluster_name and cluster_color dicts with the 'name' lookup to return the appropriate color/label\n",
        "for name, group in groups:\n",
        "    points = ax.plot(group.x, group.y, marker='o', linestyle='', ms=18, label=cluster_names[name], mec='none', color=cluster_colors[name])\n",
        "    ax.set_aspect('auto')\n",
        "    labels = [i for i in group.title]\n",
        "    \n",
        "    #set tooltip using points, labels and the already defined 'css'\n",
        "    tooltip = mpld3.plugins.PointHTMLTooltip(points[0], labels,\n",
        "                                       voffset=10, hoffset=10, css=css)\n",
        "    #connect tooltip to fig\n",
        "    mpld3.plugins.connect(fig, tooltip, TopToolbar())    \n",
        "    \n",
        "    #set tick marks as blank\n",
        "    ax.axes.get_xaxis().set_ticks([])\n",
        "    ax.axes.get_yaxis().set_ticks([])\n",
        "    \n",
        "    #set axis as blank\n",
        "    ax.axes.get_xaxis().set_visible(False)\n",
        "    ax.axes.get_yaxis().set_visible(False)\n",
        "\n",
        "    \n",
        "ax.legend(numpoints=1) #show legend with only one dot\n",
        "\n",
        "mpld3.display() #show the plot\n",
        "\n",
        "#uncomment the below to export to html\n",
        "#html = mpld3.fig_to_html(fig)\n",
        "#print(html)"
      ],
      "execution_count": null,
      "outputs": [
        {
          "output_type": "execute_result",
          "data": {
            "text/html": [
              "\n",
              "\n",
              "<style>\n",
              "\n",
              "text.mpld3-text, div.mpld3-tooltip {\n",
              "  font-family:Arial, Helvetica, sans-serif;\n",
              "}\n",
              "\n",
              "g.mpld3-xaxis, g.mpld3-yaxis {\n",
              "display: none; }\n",
              "\n",
              "text.mpld3-text, div.mpld3-tooltip {\n",
              "  font-family:Arial, Helvetica, sans-serif;\n",
              "}\n",
              "\n",
              "g.mpld3-xaxis, g.mpld3-yaxis {\n",
              "display: none; }\n",
              "\n",
              "text.mpld3-text, div.mpld3-tooltip {\n",
              "  font-family:Arial, Helvetica, sans-serif;\n",
              "}\n",
              "\n",
              "g.mpld3-xaxis, g.mpld3-yaxis {\n",
              "display: none; }\n",
              "\n",
              "text.mpld3-text, div.mpld3-tooltip {\n",
              "  font-family:Arial, Helvetica, sans-serif;\n",
              "}\n",
              "\n",
              "g.mpld3-xaxis, g.mpld3-yaxis {\n",
              "display: none; }\n",
              "\n",
              "text.mpld3-text, div.mpld3-tooltip {\n",
              "  font-family:Arial, Helvetica, sans-serif;\n",
              "}\n",
              "\n",
              "g.mpld3-xaxis, g.mpld3-yaxis {\n",
              "display: none; }\n",
              "\n",
              "</style>\n",
              "\n",
              "<div id=\"fig_el3488545953860648211637234\"></div>\n",
              "<script>\n",
              "function mpld3_load_lib(url, callback){\n",
              "  var s = document.createElement('script');\n",
              "  s.src = url;\n",
              "  s.async = true;\n",
              "  s.onreadystatechange = s.onload = callback;\n",
              "  s.onerror = function(){console.warn(\"failed to load library \" + url);};\n",
              "  document.getElementsByTagName(\"head\")[0].appendChild(s);\n",
              "}\n",
              "\n",
              "if(typeof(mpld3) !== \"undefined\" && mpld3._mpld3IsLoaded){\n",
              "   // already loaded: just create the figure\n",
              "   !function(mpld3){\n",
              "       \n",
              "    mpld3.register_plugin(\"htmltooltip\", HtmlTooltipPlugin);\n",
              "    HtmlTooltipPlugin.prototype = Object.create(mpld3.Plugin.prototype);\n",
              "    HtmlTooltipPlugin.prototype.constructor = HtmlTooltipPlugin;\n",
              "    HtmlTooltipPlugin.prototype.requiredProps = [\"id\"];\n",
              "    HtmlTooltipPlugin.prototype.defaultProps = {labels:null, hoffset:0, voffset:10};\n",
              "    function HtmlTooltipPlugin(fig, props){\n",
              "        mpld3.Plugin.call(this, fig, props);\n",
              "    };\n",
              "\n",
              "    HtmlTooltipPlugin.prototype.draw = function(){\n",
              "       var obj = mpld3.get_element(this.props.id);\n",
              "       var labels = this.props.labels;\n",
              "       var tooltip = d3.select(\"body\").append(\"div\")\n",
              "                    .attr(\"class\", \"mpld3-tooltip\")\n",
              "                    .style(\"position\", \"absolute\")\n",
              "                    .style(\"z-index\", \"10\")\n",
              "                    .style(\"visibility\", \"hidden\");\n",
              "\n",
              "       obj.elements()\n",
              "           .on(\"mouseover\", function(d, i){\n",
              "                              tooltip.html(labels[i])\n",
              "                                     .style(\"visibility\", \"visible\");})\n",
              "           .on(\"mousemove\", function(d, i){\n",
              "                    tooltip\n",
              "                      .style(\"top\", d3.event.pageY + this.props.voffset + \"px\")\n",
              "                      .style(\"left\",d3.event.pageX + this.props.hoffset + \"px\");\n",
              "                 }.bind(this))\n",
              "           .on(\"mouseout\",  function(d, i){\n",
              "                           tooltip.style(\"visibility\", \"hidden\");});\n",
              "    };\n",
              "    \n",
              "    mpld3.register_plugin(\"toptoolbar\", TopToolbar);\n",
              "    TopToolbar.prototype = Object.create(mpld3.Plugin.prototype);\n",
              "    TopToolbar.prototype.constructor = TopToolbar;\n",
              "    function TopToolbar(fig, props){\n",
              "        mpld3.Plugin.call(this, fig, props);\n",
              "    };\n",
              "\n",
              "    TopToolbar.prototype.draw = function(){\n",
              "      // the toolbar svg doesn't exist\n",
              "      // yet, so first draw it\n",
              "      this.fig.toolbar.draw();\n",
              "\n",
              "      // then change the y position to be\n",
              "      // at the top of the figure\n",
              "      this.fig.toolbar.toolbar.attr(\"x\", 150);\n",
              "      this.fig.toolbar.toolbar.attr(\"y\", 400);\n",
              "\n",
              "      // then remove the draw function,\n",
              "      // so that it is not called again\n",
              "      this.fig.toolbar.draw = function() {}\n",
              "    }\n",
              "    \n",
              "    mpld3.register_plugin(\"htmltooltip\", HtmlTooltipPlugin);\n",
              "    HtmlTooltipPlugin.prototype = Object.create(mpld3.Plugin.prototype);\n",
              "    HtmlTooltipPlugin.prototype.constructor = HtmlTooltipPlugin;\n",
              "    HtmlTooltipPlugin.prototype.requiredProps = [\"id\"];\n",
              "    HtmlTooltipPlugin.prototype.defaultProps = {labels:null, hoffset:0, voffset:10};\n",
              "    function HtmlTooltipPlugin(fig, props){\n",
              "        mpld3.Plugin.call(this, fig, props);\n",
              "    };\n",
              "\n",
              "    HtmlTooltipPlugin.prototype.draw = function(){\n",
              "       var obj = mpld3.get_element(this.props.id);\n",
              "       var labels = this.props.labels;\n",
              "       var tooltip = d3.select(\"body\").append(\"div\")\n",
              "                    .attr(\"class\", \"mpld3-tooltip\")\n",
              "                    .style(\"position\", \"absolute\")\n",
              "                    .style(\"z-index\", \"10\")\n",
              "                    .style(\"visibility\", \"hidden\");\n",
              "\n",
              "       obj.elements()\n",
              "           .on(\"mouseover\", function(d, i){\n",
              "                              tooltip.html(labels[i])\n",
              "                                     .style(\"visibility\", \"visible\");})\n",
              "           .on(\"mousemove\", function(d, i){\n",
              "                    tooltip\n",
              "                      .style(\"top\", d3.event.pageY + this.props.voffset + \"px\")\n",
              "                      .style(\"left\",d3.event.pageX + this.props.hoffset + \"px\");\n",
              "                 }.bind(this))\n",
              "           .on(\"mouseout\",  function(d, i){\n",
              "                           tooltip.style(\"visibility\", \"hidden\");});\n",
              "    };\n",
              "    \n",
              "    mpld3.register_plugin(\"toptoolbar\", TopToolbar);\n",
              "    TopToolbar.prototype = Object.create(mpld3.Plugin.prototype);\n",
              "    TopToolbar.prototype.constructor = TopToolbar;\n",
              "    function TopToolbar(fig, props){\n",
              "        mpld3.Plugin.call(this, fig, props);\n",
              "    };\n",
              "\n",
              "    TopToolbar.prototype.draw = function(){\n",
              "      // the toolbar svg doesn't exist\n",
              "      // yet, so first draw it\n",
              "      this.fig.toolbar.draw();\n",
              "\n",
              "      // then change the y position to be\n",
              "      // at the top of the figure\n",
              "      this.fig.toolbar.toolbar.attr(\"x\", 150);\n",
              "      this.fig.toolbar.toolbar.attr(\"y\", 400);\n",
              "\n",
              "      // then remove the draw function,\n",
              "      // so that it is not called again\n",
              "      this.fig.toolbar.draw = function() {}\n",
              "    }\n",
              "    \n",
              "    mpld3.register_plugin(\"htmltooltip\", HtmlTooltipPlugin);\n",
              "    HtmlTooltipPlugin.prototype = Object.create(mpld3.Plugin.prototype);\n",
              "    HtmlTooltipPlugin.prototype.constructor = HtmlTooltipPlugin;\n",
              "    HtmlTooltipPlugin.prototype.requiredProps = [\"id\"];\n",
              "    HtmlTooltipPlugin.prototype.defaultProps = {labels:null, hoffset:0, voffset:10};\n",
              "    function HtmlTooltipPlugin(fig, props){\n",
              "        mpld3.Plugin.call(this, fig, props);\n",
              "    };\n",
              "\n",
              "    HtmlTooltipPlugin.prototype.draw = function(){\n",
              "       var obj = mpld3.get_element(this.props.id);\n",
              "       var labels = this.props.labels;\n",
              "       var tooltip = d3.select(\"body\").append(\"div\")\n",
              "                    .attr(\"class\", \"mpld3-tooltip\")\n",
              "                    .style(\"position\", \"absolute\")\n",
              "                    .style(\"z-index\", \"10\")\n",
              "                    .style(\"visibility\", \"hidden\");\n",
              "\n",
              "       obj.elements()\n",
              "           .on(\"mouseover\", function(d, i){\n",
              "                              tooltip.html(labels[i])\n",
              "                                     .style(\"visibility\", \"visible\");})\n",
              "           .on(\"mousemove\", function(d, i){\n",
              "                    tooltip\n",
              "                      .style(\"top\", d3.event.pageY + this.props.voffset + \"px\")\n",
              "                      .style(\"left\",d3.event.pageX + this.props.hoffset + \"px\");\n",
              "                 }.bind(this))\n",
              "           .on(\"mouseout\",  function(d, i){\n",
              "                           tooltip.style(\"visibility\", \"hidden\");});\n",
              "    };\n",
              "    \n",
              "    mpld3.register_plugin(\"toptoolbar\", TopToolbar);\n",
              "    TopToolbar.prototype = Object.create(mpld3.Plugin.prototype);\n",
              "    TopToolbar.prototype.constructor = TopToolbar;\n",
              "    function TopToolbar(fig, props){\n",
              "        mpld3.Plugin.call(this, fig, props);\n",
              "    };\n",
              "\n",
              "    TopToolbar.prototype.draw = function(){\n",
              "      // the toolbar svg doesn't exist\n",
              "      // yet, so first draw it\n",
              "      this.fig.toolbar.draw();\n",
              "\n",
              "      // then change the y position to be\n",
              "      // at the top of the figure\n",
              "      this.fig.toolbar.toolbar.attr(\"x\", 150);\n",
              "      this.fig.toolbar.toolbar.attr(\"y\", 400);\n",
              "\n",
              "      // then remove the draw function,\n",
              "      // so that it is not called again\n",
              "      this.fig.toolbar.draw = function() {}\n",
              "    }\n",
              "    \n",
              "    mpld3.register_plugin(\"htmltooltip\", HtmlTooltipPlugin);\n",
              "    HtmlTooltipPlugin.prototype = Object.create(mpld3.Plugin.prototype);\n",
              "    HtmlTooltipPlugin.prototype.constructor = HtmlTooltipPlugin;\n",
              "    HtmlTooltipPlugin.prototype.requiredProps = [\"id\"];\n",
              "    HtmlTooltipPlugin.prototype.defaultProps = {labels:null, hoffset:0, voffset:10};\n",
              "    function HtmlTooltipPlugin(fig, props){\n",
              "        mpld3.Plugin.call(this, fig, props);\n",
              "    };\n",
              "\n",
              "    HtmlTooltipPlugin.prototype.draw = function(){\n",
              "       var obj = mpld3.get_element(this.props.id);\n",
              "       var labels = this.props.labels;\n",
              "       var tooltip = d3.select(\"body\").append(\"div\")\n",
              "                    .attr(\"class\", \"mpld3-tooltip\")\n",
              "                    .style(\"position\", \"absolute\")\n",
              "                    .style(\"z-index\", \"10\")\n",
              "                    .style(\"visibility\", \"hidden\");\n",
              "\n",
              "       obj.elements()\n",
              "           .on(\"mouseover\", function(d, i){\n",
              "                              tooltip.html(labels[i])\n",
              "                                     .style(\"visibility\", \"visible\");})\n",
              "           .on(\"mousemove\", function(d, i){\n",
              "                    tooltip\n",
              "                      .style(\"top\", d3.event.pageY + this.props.voffset + \"px\")\n",
              "                      .style(\"left\",d3.event.pageX + this.props.hoffset + \"px\");\n",
              "                 }.bind(this))\n",
              "           .on(\"mouseout\",  function(d, i){\n",
              "                           tooltip.style(\"visibility\", \"hidden\");});\n",
              "    };\n",
              "    \n",
              "    mpld3.register_plugin(\"toptoolbar\", TopToolbar);\n",
              "    TopToolbar.prototype = Object.create(mpld3.Plugin.prototype);\n",
              "    TopToolbar.prototype.constructor = TopToolbar;\n",
              "    function TopToolbar(fig, props){\n",
              "        mpld3.Plugin.call(this, fig, props);\n",
              "    };\n",
              "\n",
              "    TopToolbar.prototype.draw = function(){\n",
              "      // the toolbar svg doesn't exist\n",
              "      // yet, so first draw it\n",
              "      this.fig.toolbar.draw();\n",
              "\n",
              "      // then change the y position to be\n",
              "      // at the top of the figure\n",
              "      this.fig.toolbar.toolbar.attr(\"x\", 150);\n",
              "      this.fig.toolbar.toolbar.attr(\"y\", 400);\n",
              "\n",
              "      // then remove the draw function,\n",
              "      // so that it is not called again\n",
              "      this.fig.toolbar.draw = function() {}\n",
              "    }\n",
              "    \n",
              "    mpld3.register_plugin(\"htmltooltip\", HtmlTooltipPlugin);\n",
              "    HtmlTooltipPlugin.prototype = Object.create(mpld3.Plugin.prototype);\n",
              "    HtmlTooltipPlugin.prototype.constructor = HtmlTooltipPlugin;\n",
              "    HtmlTooltipPlugin.prototype.requiredProps = [\"id\"];\n",
              "    HtmlTooltipPlugin.prototype.defaultProps = {labels:null, hoffset:0, voffset:10};\n",
              "    function HtmlTooltipPlugin(fig, props){\n",
              "        mpld3.Plugin.call(this, fig, props);\n",
              "    };\n",
              "\n",
              "    HtmlTooltipPlugin.prototype.draw = function(){\n",
              "       var obj = mpld3.get_element(this.props.id);\n",
              "       var labels = this.props.labels;\n",
              "       var tooltip = d3.select(\"body\").append(\"div\")\n",
              "                    .attr(\"class\", \"mpld3-tooltip\")\n",
              "                    .style(\"position\", \"absolute\")\n",
              "                    .style(\"z-index\", \"10\")\n",
              "                    .style(\"visibility\", \"hidden\");\n",
              "\n",
              "       obj.elements()\n",
              "           .on(\"mouseover\", function(d, i){\n",
              "                              tooltip.html(labels[i])\n",
              "                                     .style(\"visibility\", \"visible\");})\n",
              "           .on(\"mousemove\", function(d, i){\n",
              "                    tooltip\n",
              "                      .style(\"top\", d3.event.pageY + this.props.voffset + \"px\")\n",
              "                      .style(\"left\",d3.event.pageX + this.props.hoffset + \"px\");\n",
              "                 }.bind(this))\n",
              "           .on(\"mouseout\",  function(d, i){\n",
              "                           tooltip.style(\"visibility\", \"hidden\");});\n",
              "    };\n",
              "    \n",
              "    mpld3.register_plugin(\"toptoolbar\", TopToolbar);\n",
              "    TopToolbar.prototype = Object.create(mpld3.Plugin.prototype);\n",
              "    TopToolbar.prototype.constructor = TopToolbar;\n",
              "    function TopToolbar(fig, props){\n",
              "        mpld3.Plugin.call(this, fig, props);\n",
              "    };\n",
              "\n",
              "    TopToolbar.prototype.draw = function(){\n",
              "      // the toolbar svg doesn't exist\n",
              "      // yet, so first draw it\n",
              "      this.fig.toolbar.draw();\n",
              "\n",
              "      // then change the y position to be\n",
              "      // at the top of the figure\n",
              "      this.fig.toolbar.toolbar.attr(\"x\", 150);\n",
              "      this.fig.toolbar.toolbar.attr(\"y\", 400);\n",
              "\n",
              "      // then remove the draw function,\n",
              "      // so that it is not called again\n",
              "      this.fig.toolbar.draw = function() {}\n",
              "    }\n",
              "    \n",
              "       mpld3.draw_figure(\"fig_el3488545953860648211637234\", {\"axes\": [{\"xlim\": [-0.70189582032870046, 0.71051473536226761], \"yscale\": \"linear\", \"axesbg\": \"#FFFFFF\", \"texts\": [{\"v_baseline\": \"auto\", \"h_anchor\": \"start\", \"color\": \"#000000\", \"text\": \"Family, home, war\", \"coordinates\": \"axes\", \"zorder\": 1000003.0, \"alpha\": 1, \"fontsize\": 12.0, \"position\": [0.78209605414746564, 0.94086021505376327], \"rotation\": -0.0, \"id\": \"el348854605730704\"}, {\"v_baseline\": \"auto\", \"h_anchor\": \"start\", \"color\": \"#000000\", \"text\": \"Police, killed, murders\", \"coordinates\": \"axes\", \"zorder\": 1000003.0, \"alpha\": 1, \"fontsize\": 12.0, \"position\": [0.78209605414746564, 0.88799283154121844], \"rotation\": -0.0, \"id\": \"el348854605873616\"}, {\"v_baseline\": \"auto\", \"h_anchor\": \"start\", \"color\": \"#000000\", \"text\": \"Father, New York, brothers\", \"coordinates\": \"axes\", \"zorder\": 1000003.0, \"alpha\": 1, \"fontsize\": 12.0, \"position\": [0.78209605414746564, 0.83512544802867383], \"rotation\": -0.0, \"id\": \"el348854516866960\"}, {\"v_baseline\": \"auto\", \"h_anchor\": \"start\", \"color\": \"#000000\", \"text\": \"Dance, singing, love\", \"coordinates\": \"axes\", \"zorder\": 1000003.0, \"alpha\": 1, \"fontsize\": 12.0, \"position\": [0.78209605414746564, 0.782258064516129], \"rotation\": -0.0, \"id\": \"el348854516931152\"}, {\"v_baseline\": \"auto\", \"h_anchor\": \"start\", \"color\": \"#000000\", \"text\": \"Killed, soldiers, captain\", \"coordinates\": \"axes\", \"zorder\": 1000003.0, \"alpha\": 1, \"fontsize\": 12.0, \"position\": [0.78209605414746564, 0.72939068100358417], \"rotation\": -0.0, \"id\": \"el348854605848144\"}], \"zoomable\": true, \"images\": [], \"xdomain\": [-0.70189582032870046, 0.71051473536226761], \"ylim\": [-0.70830339802964049, 0.69370701811001245], \"paths\": [{\"edgecolor\": \"#000000\", \"facecolor\": \"#FFFFFF\", \"edgewidth\": 1.0, \"pathcodes\": [\"M\", \"L\", \"L\", \"L\", \"L\", \"Z\"], \"yindex\": 1, \"coordinates\": \"axes\", \"dasharray\": \"10,0\", \"zorder\": 1000001.0, \"alpha\": 1, \"xindex\": 0, \"data\": \"data07\", \"id\": \"el348854597028880\"}], \"sharey\": [], \"sharex\": [], \"axesbgalpha\": null, \"axes\": [{\"scale\": \"linear\", \"tickformat\": \"\", \"grid\": {\"gridOn\": false}, \"fontsize\": null, \"position\": \"bottom\", \"nticks\": 0, \"tickvalues\": []}, {\"scale\": \"linear\", \"tickformat\": \"\", \"grid\": {\"gridOn\": false}, \"fontsize\": null, \"position\": \"left\", \"nticks\": 0, \"tickvalues\": []}], \"lines\": [], \"markers\": [{\"edgecolor\": \"none\", \"facecolor\": \"#1B9E77\", \"edgewidth\": 0.5, \"yindex\": 1, \"coordinates\": \"data\", \"zorder\": 2, \"markerpath\": [[[0.0, 9.0], [2.3868279, 9.0], [4.676218837063681, 8.051703224294176], [6.3639610306789285, 6.3639610306789285], [8.051703224294176, 4.676218837063681], [9.0, 2.3868279], [9.0, 0.0], [9.0, -2.3868279], [8.051703224294176, -4.676218837063681], [6.3639610306789285, -6.3639610306789285], [4.676218837063681, -8.051703224294176], [2.3868279, -9.0], [0.0, -9.0], [-2.3868279, -9.0], [-4.676218837063681, -8.051703224294176], [-6.3639610306789285, -6.3639610306789285], [-8.051703224294176, -4.676218837063681], [-9.0, -2.3868279], [-9.0, 0.0], [-9.0, 2.3868279], [-8.051703224294176, 4.676218837063681], [-6.3639610306789285, 6.3639610306789285], [-4.676218837063681, 8.051703224294176], [-2.3868279, 9.0], [0.0, 9.0]], [\"M\", \"C\", \"C\", \"C\", \"C\", \"C\", \"C\", \"C\", \"C\", \"Z\"]], \"alpha\": 1, \"xindex\": 0, \"data\": \"data01\", \"id\": \"el348854597029712pts\"}, {\"edgecolor\": \"none\", \"facecolor\": \"#D95F02\", \"edgewidth\": 0.5, \"yindex\": 1, \"coordinates\": \"data\", \"zorder\": 2, \"markerpath\": [[[0.0, 9.0], [2.3868279, 9.0], [4.676218837063681, 8.051703224294176], [6.3639610306789285, 6.3639610306789285], [8.051703224294176, 4.676218837063681], [9.0, 2.3868279], [9.0, 0.0], [9.0, -2.3868279], [8.051703224294176, -4.676218837063681], [6.3639610306789285, -6.3639610306789285], [4.676218837063681, -8.051703224294176], [2.3868279, -9.0], [0.0, -9.0], [-2.3868279, -9.0], [-4.676218837063681, -8.051703224294176], [-6.3639610306789285, -6.3639610306789285], [-8.051703224294176, -4.676218837063681], [-9.0, -2.3868279], [-9.0, 0.0], [-9.0, 2.3868279], [-8.051703224294176, 4.676218837063681], [-6.3639610306789285, 6.3639610306789285], [-4.676218837063681, 8.051703224294176], [-2.3868279, 9.0], [0.0, 9.0]], [\"M\", \"C\", \"C\", \"C\", \"C\", \"C\", \"C\", \"C\", \"C\", \"Z\"]], \"alpha\": 1, \"xindex\": 0, \"data\": \"data02\", \"id\": \"el348854597030096pts\"}, {\"edgecolor\": \"none\", \"facecolor\": \"#7570B3\", \"edgewidth\": 0.5, \"yindex\": 1, \"coordinates\": \"data\", \"zorder\": 2, \"markerpath\": [[[0.0, 9.0], [2.3868279, 9.0], [4.676218837063681, 8.051703224294176], [6.3639610306789285, 6.3639610306789285], [8.051703224294176, 4.676218837063681], [9.0, 2.3868279], [9.0, 0.0], [9.0, -2.3868279], [8.051703224294176, -4.676218837063681], [6.3639610306789285, -6.3639610306789285], [4.676218837063681, -8.051703224294176], [2.3868279, -9.0], [0.0, -9.0], [-2.3868279, -9.0], [-4.676218837063681, -8.051703224294176], [-6.3639610306789285, -6.3639610306789285], [-8.051703224294176, -4.676218837063681], [-9.0, -2.3868279], [-9.0, 0.0], [-9.0, 2.3868279], [-8.051703224294176, 4.676218837063681], [-6.3639610306789285, 6.3639610306789285], [-4.676218837063681, 8.051703224294176], [-2.3868279, 9.0], [0.0, 9.0]], [\"M\", \"C\", \"C\", \"C\", \"C\", \"C\", \"C\", \"C\", \"C\", \"Z\"]], \"alpha\": 1, \"xindex\": 0, \"data\": \"data03\", \"id\": \"el348854522958160pts\"}, {\"edgecolor\": \"none\", \"facecolor\": \"#E7298A\", \"edgewidth\": 0.5, \"yindex\": 1, \"coordinates\": \"data\", \"zorder\": 2, \"markerpath\": [[[0.0, 9.0], [2.3868279, 9.0], [4.676218837063681, 8.051703224294176], [6.3639610306789285, 6.3639610306789285], [8.051703224294176, 4.676218837063681], [9.0, 2.3868279], [9.0, 0.0], [9.0, -2.3868279], [8.051703224294176, -4.676218837063681], [6.3639610306789285, -6.3639610306789285], [4.676218837063681, -8.051703224294176], [2.3868279, -9.0], [0.0, -9.0], [-2.3868279, -9.0], [-4.676218837063681, -8.051703224294176], [-6.3639610306789285, -6.3639610306789285], [-8.051703224294176, -4.676218837063681], [-9.0, -2.3868279], [-9.0, 0.0], [-9.0, 2.3868279], [-8.051703224294176, 4.676218837063681], [-6.3639610306789285, 6.3639610306789285], [-4.676218837063681, 8.051703224294176], [-2.3868279, 9.0], [0.0, 9.0]], [\"M\", \"C\", \"C\", \"C\", \"C\", \"C\", \"C\", \"C\", \"C\", \"Z\"]], \"alpha\": 1, \"xindex\": 0, \"data\": \"data04\", \"id\": \"el348854541027280pts\"}, {\"edgecolor\": \"none\", \"facecolor\": \"#66A61E\", \"edgewidth\": 0.5, \"yindex\": 1, \"coordinates\": \"data\", \"zorder\": 2, \"markerpath\": [[[0.0, 9.0], [2.3868279, 9.0], [4.676218837063681, 8.051703224294176], [6.3639610306789285, 6.3639610306789285], [8.051703224294176, 4.676218837063681], [9.0, 2.3868279], [9.0, 0.0], [9.0, -2.3868279], [8.051703224294176, -4.676218837063681], [6.3639610306789285, -6.3639610306789285], [4.676218837063681, -8.051703224294176], [2.3868279, -9.0], [0.0, -9.0], [-2.3868279, -9.0], [-4.676218837063681, -8.051703224294176], [-6.3639610306789285, -6.3639610306789285], [-8.051703224294176, -4.676218837063681], [-9.0, -2.3868279], [-9.0, 0.0], [-9.0, 2.3868279], [-8.051703224294176, 4.676218837063681], [-6.3639610306789285, 6.3639610306789285], [-4.676218837063681, 8.051703224294176], [-2.3868279, 9.0], [0.0, 9.0]], [\"M\", \"C\", \"C\", \"C\", \"C\", \"C\", \"C\", \"C\", \"C\", \"Z\"]], \"alpha\": 1, \"xindex\": 0, \"data\": \"data05\", \"id\": \"el348854524497104pts\"}, {\"edgecolor\": \"none\", \"facecolor\": \"#1B9E77\", \"edgewidth\": 0.5, \"yindex\": 1, \"coordinates\": \"axes\", \"zorder\": 1000002.0, \"markerpath\": [[[0.0, 9.0], [2.3868279, 9.0], [4.676218837063681, 8.051703224294176], [6.3639610306789285, 6.3639610306789285], [8.051703224294176, 4.676218837063681], [9.0, 2.3868279], [9.0, 0.0], [9.0, -2.3868279], [8.051703224294176, -4.676218837063681], [6.3639610306789285, -6.3639610306789285], [4.676218837063681, -8.051703224294176], [2.3868279, -9.0], [0.0, -9.0], [-2.3868279, -9.0], [-4.676218837063681, -8.051703224294176], [-6.3639610306789285, -6.3639610306789285], [-8.051703224294176, -4.676218837063681], [-9.0, -2.3868279], [-9.0, 0.0], [-9.0, 2.3868279], [-8.051703224294176, 4.676218837063681], [-6.3639610306789285, 6.3639610306789285], [-4.676218837063681, 8.051703224294176], [-2.3868279, 9.0], [0.0, 9.0]], [\"M\", \"C\", \"C\", \"C\", \"C\", \"C\", \"C\", \"C\", \"C\", \"Z\"]], \"alpha\": 1, \"xindex\": 0, \"data\": \"data06\", \"id\": \"el348854605871952pts\"}, {\"edgecolor\": \"none\", \"facecolor\": \"#D95F02\", \"edgewidth\": 0.5, \"yindex\": 2, \"coordinates\": \"axes\", \"zorder\": 1000002.0, \"markerpath\": [[[0.0, 9.0], [2.3868279, 9.0], [4.676218837063681, 8.051703224294176], [6.3639610306789285, 6.3639610306789285], [8.051703224294176, 4.676218837063681], [9.0, 2.3868279], [9.0, 0.0], [9.0, -2.3868279], [8.051703224294176, -4.676218837063681], [6.3639610306789285, -6.3639610306789285], [4.676218837063681, -8.051703224294176], [2.3868279, -9.0], [0.0, -9.0], [-2.3868279, -9.0], [-4.676218837063681, -8.051703224294176], [-6.3639610306789285, -6.3639610306789285], [-8.051703224294176, -4.676218837063681], [-9.0, -2.3868279], [-9.0, 0.0], [-9.0, 2.3868279], [-8.051703224294176, 4.676218837063681], [-6.3639610306789285, 6.3639610306789285], [-4.676218837063681, 8.051703224294176], [-2.3868279, 9.0], [0.0, 9.0]], [\"M\", \"C\", \"C\", \"C\", \"C\", \"C\", \"C\", \"C\", \"C\", \"Z\"]], \"alpha\": 1, \"xindex\": 0, \"data\": \"data06\", \"id\": \"el348854516867152pts\"}, {\"edgecolor\": \"none\", \"facecolor\": \"#7570B3\", \"edgewidth\": 0.5, \"yindex\": 3, \"coordinates\": \"axes\", \"zorder\": 1000002.0, \"markerpath\": [[[0.0, 9.0], [2.3868279, 9.0], [4.676218837063681, 8.051703224294176], [6.3639610306789285, 6.3639610306789285], [8.051703224294176, 4.676218837063681], [9.0, 2.3868279], [9.0, 0.0], [9.0, -2.3868279], [8.051703224294176, -4.676218837063681], [6.3639610306789285, -6.3639610306789285], [4.676218837063681, -8.051703224294176], [2.3868279, -9.0], [0.0, -9.0], [-2.3868279, -9.0], [-4.676218837063681, -8.051703224294176], [-6.3639610306789285, -6.3639610306789285], [-8.051703224294176, -4.676218837063681], [-9.0, -2.3868279], [-9.0, 0.0], [-9.0, 2.3868279], [-8.051703224294176, 4.676218837063681], [-6.3639610306789285, 6.3639610306789285], [-4.676218837063681, 8.051703224294176], [-2.3868279, 9.0], [0.0, 9.0]], [\"M\", \"C\", \"C\", \"C\", \"C\", \"C\", \"C\", \"C\", \"C\", \"Z\"]], \"alpha\": 1, \"xindex\": 0, \"data\": \"data06\", \"id\": \"el348854516864080pts\"}, {\"edgecolor\": \"none\", \"facecolor\": \"#E7298A\", \"edgewidth\": 0.5, \"yindex\": 4, \"coordinates\": \"axes\", \"zorder\": 1000002.0, \"markerpath\": [[[0.0, 9.0], [2.3868279, 9.0], [4.676218837063681, 8.051703224294176], [6.3639610306789285, 6.3639610306789285], [8.051703224294176, 4.676218837063681], [9.0, 2.3868279], [9.0, 0.0], [9.0, -2.3868279], [8.051703224294176, -4.676218837063681], [6.3639610306789285, -6.3639610306789285], [4.676218837063681, -8.051703224294176], [2.3868279, -9.0], [0.0, -9.0], [-2.3868279, -9.0], [-4.676218837063681, -8.051703224294176], [-6.3639610306789285, -6.3639610306789285], [-8.051703224294176, -4.676218837063681], [-9.0, -2.3868279], [-9.0, 0.0], [-9.0, 2.3868279], [-8.051703224294176, 4.676218837063681], [-6.3639610306789285, 6.3639610306789285], [-4.676218837063681, 8.051703224294176], [-2.3868279, 9.0], [0.0, 9.0]], [\"M\", \"C\", \"C\", \"C\", \"C\", \"C\", \"C\", \"C\", \"C\", \"Z\"]], \"alpha\": 1, \"xindex\": 0, \"data\": \"data06\", \"id\": \"el348854605848592pts\"}, {\"edgecolor\": \"none\", \"facecolor\": \"#66A61E\", \"edgewidth\": 0.5, \"yindex\": 5, \"coordinates\": \"axes\", \"zorder\": 1000002.0, \"markerpath\": [[[0.0, 9.0], [2.3868279, 9.0], [4.676218837063681, 8.051703224294176], [6.3639610306789285, 6.3639610306789285], [8.051703224294176, 4.676218837063681], [9.0, 2.3868279], [9.0, 0.0], [9.0, -2.3868279], [8.051703224294176, -4.676218837063681], [6.3639610306789285, -6.3639610306789285], [4.676218837063681, -8.051703224294176], [2.3868279, -9.0], [0.0, -9.0], [-2.3868279, -9.0], [-4.676218837063681, -8.051703224294176], [-6.3639610306789285, -6.3639610306789285], [-8.051703224294176, -4.676218837063681], [-9.0, -2.3868279], [-9.0, 0.0], [-9.0, 2.3868279], [-8.051703224294176, 4.676218837063681], [-6.3639610306789285, 6.3639610306789285], [-4.676218837063681, 8.051703224294176], [-2.3868279, 9.0], [0.0, 9.0]], [\"M\", \"C\", \"C\", \"C\", \"C\", \"C\", \"C\", \"C\", \"C\", \"Z\"]], \"alpha\": 1, \"xindex\": 0, \"data\": \"data06\", \"id\": \"el348854605905744pts\"}], \"id\": \"el348854541852880\", \"ydomain\": [-0.70830339802964049, 0.69370701811001245], \"collections\": [], \"xscale\": \"linear\", \"bbox\": [0.125, 0.125, 0.77500000000000002, 0.77500000000000002]}], \"height\": 480.0, \"width\": 1120.0, \"plugins\": [{\"type\": \"reset\"}, {\"enabled\": false, \"button\": true, \"type\": \"zoom\"}, {\"enabled\": false, \"button\": true, \"type\": \"boxzoom\"}, {\"voffset\": 10, \"labels\": [\"Schindler's List\", \"One Flew Over the Cuckoo's Nest\", \"Gone with the Wind\", \"The Wizard of Oz\", \"Titanic\", \"Forrest Gump\", \"E.T. the Extra-Terrestrial\", \"The Silence of the Lambs\", \"Gandhi\", \"A Streetcar Named Desire\", \"The Best Years of Our Lives\", \"My Fair Lady\", \"Ben-Hur\", \"Doctor Zhivago\", \"The Pianist\", \"The Exorcist\", \"Out of Africa\", \"Good Will Hunting\", \"Terms of Endearment\", \"Giant\", \"The Grapes of Wrath\", \"Close Encounters of the Third Kind\", \"The Graduate\", \"Stagecoach\", \"Wuthering Heights\"], \"type\": \"htmltooltip\", \"id\": \"el348854597029712pts\", \"hoffset\": 10}, {\"type\": \"toptoolbar\"}, {\"voffset\": 10, \"labels\": [\"Casablanca\", \"Psycho\", \"Sunset Blvd.\", \"Vertigo\", \"Chinatown\", \"Amadeus\", \"High Noon\", \"The French Connection\", \"Fargo\", \"Pulp Fiction\", \"The Maltese Falcon\", \"A Clockwork Orange\", \"Double Indemnity\", \"Rebel Without a Cause\", \"The Third Man\", \"North by Northwest\"], \"type\": \"htmltooltip\", \"id\": \"el348854597030096pts\", \"hoffset\": 10}, {\"type\": \"toptoolbar\"}, {\"voffset\": 10, \"labels\": [\"The Godfather\", \"Raging Bull\", \"Citizen Kane\", \"The Godfather: Part II\", \"On the Waterfront\", \"12 Angry Men\", \"Rocky\", \"To Kill a Mockingbird\", \"Braveheart\", \"The Good, the Bad and the Ugly\", \"The Apartment\", \"Goodfellas\", \"City Lights\", \"It Happened One Night\", \"Midnight Cowboy\", \"Mr. Smith Goes to Washington\", \"Rain Man\", \"Annie Hall\", \"Network\", \"Taxi Driver\", \"Rear Window\"], \"type\": \"htmltooltip\", \"id\": \"el348854522958160pts\", \"hoffset\": 10}, {\"type\": \"toptoolbar\"}, {\"voffset\": 10, \"labels\": [\"West Side Story\", \"Singin' in the Rain\", \"It's a Wonderful Life\", \"Some Like It Hot\", \"The Philadelphia Story\", \"An American in Paris\", \"The King's Speech\", \"A Place in the Sun\", \"Tootsie\", \"Nashville\", \"American Graffiti\", \"Yankee Doodle Dandy\"], \"type\": \"htmltooltip\", \"id\": \"el348854541027280pts\", \"hoffset\": 10}, {\"type\": \"toptoolbar\"}, {\"voffset\": 10, \"labels\": [\"The Shawshank Redemption\", \"Lawrence of Arabia\", \"The Sound of Music\", \"Star Wars\", \"2001: A Space Odyssey\", \"The Bridge on the River Kwai\", \"Dr. Strangelove or: How I Learned to Stop Worrying and Love the Bomb\", \"Apocalypse Now\", \"The Lord of the Rings: The Return of the King\", \"Gladiator\", \"From Here to Eternity\", \"Saving Private Ryan\", \"Unforgiven\", \"Raiders of the Lost Ark\", \"Patton\", \"Jaws\", \"Butch Cassidy and the Sundance Kid\", \"The Treasure of the Sierra Madre\", \"Platoon\", \"Dances with Wolves\", \"The Deer Hunter\", \"All Quiet on the Western Front\", \"Shane\", \"The Green Mile\", \"The African Queen\", \"Mutiny on the Bounty\"], \"type\": \"htmltooltip\", \"id\": \"el348854524497104pts\", \"hoffset\": 10}, {\"type\": \"toptoolbar\"}], \"data\": {\"data06\": [[0.7544462845622121, 0.9534050179211467, 0.9005376344086019, 0.8476702508960573, 0.7948028673835125, 0.7419354838709676]], \"data07\": [[0.7329409082181261, 0.7069892473118278], [0.9923195084485409, 0.7069892473118278], [0.9923195084485409, 0.9820788530465947], [0.7329409082181261, 0.9820788530465947], [0.7329409082181261, 0.7069892473118278]], \"data04\": [[-0.48383166475045314, 0.17406382605759155], [-0.3431621006015567, 0.6339455084054434], [0.42023926967786635, 0.585073332726518], [-0.17325065040967416, 0.23163649164649666], [0.6705408517106365, 0.1152867311811776], [-0.20507682543002934, 0.5602431727781544], [0.4029759387982718, 0.4993894350885348], [0.6671527866782192, 0.2655632808140779], [-0.02368751477042728, 0.34058596130883056], [0.06057638900463016, 0.6101307798961454], [-0.6012117652228453, -0.04229065076764765], [0.6299986440743635, 0.35408489380322294]], \"data05\": [[0.4425217895905002, -0.2796139796878817], [-0.24776866601229716, -0.5782685424165561], [0.5555461511292237, 0.486954891259419], [0.19708753275222002, -0.38902709232046384], [0.3497144798998901, -0.338553421833173], [-0.07419701411754268, -0.5782948227044011], [-0.014592308929045296, -0.6368511048162793], [0.025373394060233537, -0.634289200597481], [0.24399849236205579, -0.5034936076710894], [0.07277111225479607, -0.47961483445651304], [-0.1519065165847722, -0.338080020776755], [-0.015830214134386178, -0.36229007847066996], [-0.13402784922090072, -0.3012324095400005], [-0.23474733283083896, -0.4502062748678493], [0.12924047876683878, -0.6686238579502164], [0.08194147679809109, -0.3929722898416771], [-0.34747538257781435, -0.3233751877512795], [-0.3631413985443942, -0.4813272206475685], [-0.09731550319802962, -0.505864130911545], [0.18513473762402247, -0.5781596431297301], [-0.09597244991104013, -0.19942409220233107], [-0.18228725458498232, -0.5566467223632475], [-0.551994202072232, 0.33486446230226674], [-0.5679692454857176, -0.35356444529282777], [-0.45369369757595834, -0.44434234569143366], [0.3366116741827183, -0.6447240310583208]], \"data02\": [[-0.2476475600239232, -0.26290199748846194], [-0.22919155130164443, 0.06968880208772948], [-0.42967373628736466, 0.28652830354480197], [-0.3531795894914802, 0.12742474874876483], [-0.5517590615479852, -0.22488031423191712], [0.4134372284409409, 0.40907893375027393], [-0.6619219366770693, -0.20578641688667848], [-0.4603909162269872, 0.008430725029157468], [-0.3422448822106277, 0.03699561151307461], [-0.3438274431555653, -0.06956150821349773], [-0.3384187737692901, -0.1515124959398215], [-0.18283874549876644, 0.14829844310283077], [-0.46586683087784553, -0.09919136771199337], [-0.577910557660688, 0.28870430670538155], [-0.20956788370183355, -0.0574148454899521], [-0.20029308653202116, 0.00718931223386455]], \"data03\": [[0.18558490034956887, -0.01077771968604301], [-0.13262115988334475, 0.5751789037009231], [0.016222043434641144, 0.4652342083561871], [0.07240937947290513, 0.13247203862675336], [-0.05239281560115413, 0.12267112673062845], [0.5241688637949986, 0.14425768177773893], [-0.2825557188697044, 0.2745647039405087], [0.21864153351095966, 0.22101476971173736], [0.49293979852148206, -0.1406180288639719], [-0.07221741889036004, 0.5688366094319275], [-0.5967680343768968, 0.1894475004960752], [0.2030557040289471, 0.06941302351286169], [0.5649139525233913, 0.34616110908884656], [-0.42188287709302075, 0.4618936364485825], [-0.30512268820937116, 0.4768633838569787], [0.6449291941438089, -0.15516297397920956], [-0.18081125741175175, 0.4765240199441122], [-0.027643220902818993, 0.6540274780305884], [0.6687778032882542, -0.08795572251657516], [-0.5534118533588518, 0.02875489034480997], [-0.5807159767006421, 0.10579656075156939]], \"data01\": [[-0.0777242299467317, -0.4515361500051302], [0.05143904563855998, 0.25947569793979247], [0.05926003443907459, -0.04759931281928853], [-0.4336747338877505, -0.2971244895104658], [0.6035469203843735, -0.3456193989894745], [0.35577780891092403, 0.007409352966807421], [-0.019806795422961994, -0.044100107912120406], [0.5183164260703591, -0.25353575550390045], [0.43257291891111244, 0.1381593571372851], [0.3437182373924481, 0.24527960034963084], [0.31733764740406106, 0.08349042218139716], [-0.19661734109288, 0.39627304179640405], [0.3443594003836902, -0.13069722017172503], [0.1620196922509593, -0.11876438020876365], [0.1563956093287554, -0.21269443337356803], [0.17499103541231237, 0.2985373547088241], [0.12782499859472804, 0.4815648223887244], [0.12523150357922094, 0.41721548160929905], [0.2219315942794893, 0.47877846167983906], [0.48413541386850095, 0.008757361949769692], [0.4755390685857624, -0.4356393509319867], [0.27427215751846695, -0.2940897904508699], [-0.32213342140019896, 0.33175887910243107], [0.3241754832842173, -0.45547190176887226], [0.18462105786497715, 0.5797922578764358]]}, \"id\": \"el348854595386064\"});\n",
              "   }(mpld3);\n",
              "}else if(typeof define === \"function\" && define.amd){\n",
              "   // require.js is available: use it to load d3/mpld3\n",
              "   require.config({paths: {d3: \"https://mpld3.github.io/js/d3.v3.min\"}});\n",
              "   require([\"d3\"], function(d3){\n",
              "      window.d3 = d3;\n",
              "      mpld3_load_lib(\"https://mpld3.github.io/js/mpld3.v0.2.js\", function(){\n",
              "         \n",
              "    mpld3.register_plugin(\"htmltooltip\", HtmlTooltipPlugin);\n",
              "    HtmlTooltipPlugin.prototype = Object.create(mpld3.Plugin.prototype);\n",
              "    HtmlTooltipPlugin.prototype.constructor = HtmlTooltipPlugin;\n",
              "    HtmlTooltipPlugin.prototype.requiredProps = [\"id\"];\n",
              "    HtmlTooltipPlugin.prototype.defaultProps = {labels:null, hoffset:0, voffset:10};\n",
              "    function HtmlTooltipPlugin(fig, props){\n",
              "        mpld3.Plugin.call(this, fig, props);\n",
              "    };\n",
              "\n",
              "    HtmlTooltipPlugin.prototype.draw = function(){\n",
              "       var obj = mpld3.get_element(this.props.id);\n",
              "       var labels = this.props.labels;\n",
              "       var tooltip = d3.select(\"body\").append(\"div\")\n",
              "                    .attr(\"class\", \"mpld3-tooltip\")\n",
              "                    .style(\"position\", \"absolute\")\n",
              "                    .style(\"z-index\", \"10\")\n",
              "                    .style(\"visibility\", \"hidden\");\n",
              "\n",
              "       obj.elements()\n",
              "           .on(\"mouseover\", function(d, i){\n",
              "                              tooltip.html(labels[i])\n",
              "                                     .style(\"visibility\", \"visible\");})\n",
              "           .on(\"mousemove\", function(d, i){\n",
              "                    tooltip\n",
              "                      .style(\"top\", d3.event.pageY + this.props.voffset + \"px\")\n",
              "                      .style(\"left\",d3.event.pageX + this.props.hoffset + \"px\");\n",
              "                 }.bind(this))\n",
              "           .on(\"mouseout\",  function(d, i){\n",
              "                           tooltip.style(\"visibility\", \"hidden\");});\n",
              "    };\n",
              "    \n",
              "    mpld3.register_plugin(\"toptoolbar\", TopToolbar);\n",
              "    TopToolbar.prototype = Object.create(mpld3.Plugin.prototype);\n",
              "    TopToolbar.prototype.constructor = TopToolbar;\n",
              "    function TopToolbar(fig, props){\n",
              "        mpld3.Plugin.call(this, fig, props);\n",
              "    };\n",
              "\n",
              "    TopToolbar.prototype.draw = function(){\n",
              "      // the toolbar svg doesn't exist\n",
              "      // yet, so first draw it\n",
              "      this.fig.toolbar.draw();\n",
              "\n",
              "      // then change the y position to be\n",
              "      // at the top of the figure\n",
              "      this.fig.toolbar.toolbar.attr(\"x\", 150);\n",
              "      this.fig.toolbar.toolbar.attr(\"y\", 400);\n",
              "\n",
              "      // then remove the draw function,\n",
              "      // so that it is not called again\n",
              "      this.fig.toolbar.draw = function() {}\n",
              "    }\n",
              "    \n",
              "    mpld3.register_plugin(\"htmltooltip\", HtmlTooltipPlugin);\n",
              "    HtmlTooltipPlugin.prototype = Object.create(mpld3.Plugin.prototype);\n",
              "    HtmlTooltipPlugin.prototype.constructor = HtmlTooltipPlugin;\n",
              "    HtmlTooltipPlugin.prototype.requiredProps = [\"id\"];\n",
              "    HtmlTooltipPlugin.prototype.defaultProps = {labels:null, hoffset:0, voffset:10};\n",
              "    function HtmlTooltipPlugin(fig, props){\n",
              "        mpld3.Plugin.call(this, fig, props);\n",
              "    };\n",
              "\n",
              "    HtmlTooltipPlugin.prototype.draw = function(){\n",
              "       var obj = mpld3.get_element(this.props.id);\n",
              "       var labels = this.props.labels;\n",
              "       var tooltip = d3.select(\"body\").append(\"div\")\n",
              "                    .attr(\"class\", \"mpld3-tooltip\")\n",
              "                    .style(\"position\", \"absolute\")\n",
              "                    .style(\"z-index\", \"10\")\n",
              "                    .style(\"visibility\", \"hidden\");\n",
              "\n",
              "       obj.elements()\n",
              "           .on(\"mouseover\", function(d, i){\n",
              "                              tooltip.html(labels[i])\n",
              "                                     .style(\"visibility\", \"visible\");})\n",
              "           .on(\"mousemove\", function(d, i){\n",
              "                    tooltip\n",
              "                      .style(\"top\", d3.event.pageY + this.props.voffset + \"px\")\n",
              "                      .style(\"left\",d3.event.pageX + this.props.hoffset + \"px\");\n",
              "                 }.bind(this))\n",
              "           .on(\"mouseout\",  function(d, i){\n",
              "                           tooltip.style(\"visibility\", \"hidden\");});\n",
              "    };\n",
              "    \n",
              "    mpld3.register_plugin(\"toptoolbar\", TopToolbar);\n",
              "    TopToolbar.prototype = Object.create(mpld3.Plugin.prototype);\n",
              "    TopToolbar.prototype.constructor = TopToolbar;\n",
              "    function TopToolbar(fig, props){\n",
              "        mpld3.Plugin.call(this, fig, props);\n",
              "    };\n",
              "\n",
              "    TopToolbar.prototype.draw = function(){\n",
              "      // the toolbar svg doesn't exist\n",
              "      // yet, so first draw it\n",
              "      this.fig.toolbar.draw();\n",
              "\n",
              "      // then change the y position to be\n",
              "      // at the top of the figure\n",
              "      this.fig.toolbar.toolbar.attr(\"x\", 150);\n",
              "      this.fig.toolbar.toolbar.attr(\"y\", 400);\n",
              "\n",
              "      // then remove the draw function,\n",
              "      // so that it is not called again\n",
              "      this.fig.toolbar.draw = function() {}\n",
              "    }\n",
              "    \n",
              "    mpld3.register_plugin(\"htmltooltip\", HtmlTooltipPlugin);\n",
              "    HtmlTooltipPlugin.prototype = Object.create(mpld3.Plugin.prototype);\n",
              "    HtmlTooltipPlugin.prototype.constructor = HtmlTooltipPlugin;\n",
              "    HtmlTooltipPlugin.prototype.requiredProps = [\"id\"];\n",
              "    HtmlTooltipPlugin.prototype.defaultProps = {labels:null, hoffset:0, voffset:10};\n",
              "    function HtmlTooltipPlugin(fig, props){\n",
              "        mpld3.Plugin.call(this, fig, props);\n",
              "    };\n",
              "\n",
              "    HtmlTooltipPlugin.prototype.draw = function(){\n",
              "       var obj = mpld3.get_element(this.props.id);\n",
              "       var labels = this.props.labels;\n",
              "       var tooltip = d3.select(\"body\").append(\"div\")\n",
              "                    .attr(\"class\", \"mpld3-tooltip\")\n",
              "                    .style(\"position\", \"absolute\")\n",
              "                    .style(\"z-index\", \"10\")\n",
              "                    .style(\"visibility\", \"hidden\");\n",
              "\n",
              "       obj.elements()\n",
              "           .on(\"mouseover\", function(d, i){\n",
              "                              tooltip.html(labels[i])\n",
              "                                     .style(\"visibility\", \"visible\");})\n",
              "           .on(\"mousemove\", function(d, i){\n",
              "                    tooltip\n",
              "                      .style(\"top\", d3.event.pageY + this.props.voffset + \"px\")\n",
              "                      .style(\"left\",d3.event.pageX + this.props.hoffset + \"px\");\n",
              "                 }.bind(this))\n",
              "           .on(\"mouseout\",  function(d, i){\n",
              "                           tooltip.style(\"visibility\", \"hidden\");});\n",
              "    };\n",
              "    \n",
              "    mpld3.register_plugin(\"toptoolbar\", TopToolbar);\n",
              "    TopToolbar.prototype = Object.create(mpld3.Plugin.prototype);\n",
              "    TopToolbar.prototype.constructor = TopToolbar;\n",
              "    function TopToolbar(fig, props){\n",
              "        mpld3.Plugin.call(this, fig, props);\n",
              "    };\n",
              "\n",
              "    TopToolbar.prototype.draw = function(){\n",
              "      // the toolbar svg doesn't exist\n",
              "      // yet, so first draw it\n",
              "      this.fig.toolbar.draw();\n",
              "\n",
              "      // then change the y position to be\n",
              "      // at the top of the figure\n",
              "      this.fig.toolbar.toolbar.attr(\"x\", 150);\n",
              "      this.fig.toolbar.toolbar.attr(\"y\", 400);\n",
              "\n",
              "      // then remove the draw function,\n",
              "      // so that it is not called again\n",
              "      this.fig.toolbar.draw = function() {}\n",
              "    }\n",
              "    \n",
              "    mpld3.register_plugin(\"htmltooltip\", HtmlTooltipPlugin);\n",
              "    HtmlTooltipPlugin.prototype = Object.create(mpld3.Plugin.prototype);\n",
              "    HtmlTooltipPlugin.prototype.constructor = HtmlTooltipPlugin;\n",
              "    HtmlTooltipPlugin.prototype.requiredProps = [\"id\"];\n",
              "    HtmlTooltipPlugin.prototype.defaultProps = {labels:null, hoffset:0, voffset:10};\n",
              "    function HtmlTooltipPlugin(fig, props){\n",
              "        mpld3.Plugin.call(this, fig, props);\n",
              "    };\n",
              "\n",
              "    HtmlTooltipPlugin.prototype.draw = function(){\n",
              "       var obj = mpld3.get_element(this.props.id);\n",
              "       var labels = this.props.labels;\n",
              "       var tooltip = d3.select(\"body\").append(\"div\")\n",
              "                    .attr(\"class\", \"mpld3-tooltip\")\n",
              "                    .style(\"position\", \"absolute\")\n",
              "                    .style(\"z-index\", \"10\")\n",
              "                    .style(\"visibility\", \"hidden\");\n",
              "\n",
              "       obj.elements()\n",
              "           .on(\"mouseover\", function(d, i){\n",
              "                              tooltip.html(labels[i])\n",
              "                                     .style(\"visibility\", \"visible\");})\n",
              "           .on(\"mousemove\", function(d, i){\n",
              "                    tooltip\n",
              "                      .style(\"top\", d3.event.pageY + this.props.voffset + \"px\")\n",
              "                      .style(\"left\",d3.event.pageX + this.props.hoffset + \"px\");\n",
              "                 }.bind(this))\n",
              "           .on(\"mouseout\",  function(d, i){\n",
              "                           tooltip.style(\"visibility\", \"hidden\");});\n",
              "    };\n",
              "    \n",
              "    mpld3.register_plugin(\"toptoolbar\", TopToolbar);\n",
              "    TopToolbar.prototype = Object.create(mpld3.Plugin.prototype);\n",
              "    TopToolbar.prototype.constructor = TopToolbar;\n",
              "    function TopToolbar(fig, props){\n",
              "        mpld3.Plugin.call(this, fig, props);\n",
              "    };\n",
              "\n",
              "    TopToolbar.prototype.draw = function(){\n",
              "      // the toolbar svg doesn't exist\n",
              "      // yet, so first draw it\n",
              "      this.fig.toolbar.draw();\n",
              "\n",
              "      // then change the y position to be\n",
              "      // at the top of the figure\n",
              "      this.fig.toolbar.toolbar.attr(\"x\", 150);\n",
              "      this.fig.toolbar.toolbar.attr(\"y\", 400);\n",
              "\n",
              "      // then remove the draw function,\n",
              "      // so that it is not called again\n",
              "      this.fig.toolbar.draw = function() {}\n",
              "    }\n",
              "    \n",
              "    mpld3.register_plugin(\"htmltooltip\", HtmlTooltipPlugin);\n",
              "    HtmlTooltipPlugin.prototype = Object.create(mpld3.Plugin.prototype);\n",
              "    HtmlTooltipPlugin.prototype.constructor = HtmlTooltipPlugin;\n",
              "    HtmlTooltipPlugin.prototype.requiredProps = [\"id\"];\n",
              "    HtmlTooltipPlugin.prototype.defaultProps = {labels:null, hoffset:0, voffset:10};\n",
              "    function HtmlTooltipPlugin(fig, props){\n",
              "        mpld3.Plugin.call(this, fig, props);\n",
              "    };\n",
              "\n",
              "    HtmlTooltipPlugin.prototype.draw = function(){\n",
              "       var obj = mpld3.get_element(this.props.id);\n",
              "       var labels = this.props.labels;\n",
              "       var tooltip = d3.select(\"body\").append(\"div\")\n",
              "                    .attr(\"class\", \"mpld3-tooltip\")\n",
              "                    .style(\"position\", \"absolute\")\n",
              "                    .style(\"z-index\", \"10\")\n",
              "                    .style(\"visibility\", \"hidden\");\n",
              "\n",
              "       obj.elements()\n",
              "           .on(\"mouseover\", function(d, i){\n",
              "                              tooltip.html(labels[i])\n",
              "                                     .style(\"visibility\", \"visible\");})\n",
              "           .on(\"mousemove\", function(d, i){\n",
              "                    tooltip\n",
              "                      .style(\"top\", d3.event.pageY + this.props.voffset + \"px\")\n",
              "                      .style(\"left\",d3.event.pageX + this.props.hoffset + \"px\");\n",
              "                 }.bind(this))\n",
              "           .on(\"mouseout\",  function(d, i){\n",
              "                           tooltip.style(\"visibility\", \"hidden\");});\n",
              "    };\n",
              "    \n",
              "    mpld3.register_plugin(\"toptoolbar\", TopToolbar);\n",
              "    TopToolbar.prototype = Object.create(mpld3.Plugin.prototype);\n",
              "    TopToolbar.prototype.constructor = TopToolbar;\n",
              "    function TopToolbar(fig, props){\n",
              "        mpld3.Plugin.call(this, fig, props);\n",
              "    };\n",
              "\n",
              "    TopToolbar.prototype.draw = function(){\n",
              "      // the toolbar svg doesn't exist\n",
              "      // yet, so first draw it\n",
              "      this.fig.toolbar.draw();\n",
              "\n",
              "      // then change the y position to be\n",
              "      // at the top of the figure\n",
              "      this.fig.toolbar.toolbar.attr(\"x\", 150);\n",
              "      this.fig.toolbar.toolbar.attr(\"y\", 400);\n",
              "\n",
              "      // then remove the draw function,\n",
              "      // so that it is not called again\n",
              "      this.fig.toolbar.draw = function() {}\n",
              "    }\n",
              "    \n",
              "         mpld3.draw_figure(\"fig_el3488545953860648211637234\", {\"axes\": [{\"xlim\": [-0.70189582032870046, 0.71051473536226761], \"yscale\": \"linear\", \"axesbg\": \"#FFFFFF\", \"texts\": [{\"v_baseline\": \"auto\", \"h_anchor\": \"start\", \"color\": \"#000000\", \"text\": \"Family, home, war\", \"coordinates\": \"axes\", \"zorder\": 1000003.0, \"alpha\": 1, \"fontsize\": 12.0, \"position\": [0.78209605414746564, 0.94086021505376327], \"rotation\": -0.0, \"id\": \"el348854605730704\"}, {\"v_baseline\": \"auto\", \"h_anchor\": \"start\", \"color\": \"#000000\", \"text\": \"Police, killed, murders\", \"coordinates\": \"axes\", \"zorder\": 1000003.0, \"alpha\": 1, \"fontsize\": 12.0, \"position\": [0.78209605414746564, 0.88799283154121844], \"rotation\": -0.0, \"id\": \"el348854605873616\"}, {\"v_baseline\": \"auto\", \"h_anchor\": \"start\", \"color\": \"#000000\", \"text\": \"Father, New York, brothers\", \"coordinates\": \"axes\", \"zorder\": 1000003.0, \"alpha\": 1, \"fontsize\": 12.0, \"position\": [0.78209605414746564, 0.83512544802867383], \"rotation\": -0.0, \"id\": \"el348854516866960\"}, {\"v_baseline\": \"auto\", \"h_anchor\": \"start\", \"color\": \"#000000\", \"text\": \"Dance, singing, love\", \"coordinates\": \"axes\", \"zorder\": 1000003.0, \"alpha\": 1, \"fontsize\": 12.0, \"position\": [0.78209605414746564, 0.782258064516129], \"rotation\": -0.0, \"id\": \"el348854516931152\"}, {\"v_baseline\": \"auto\", \"h_anchor\": \"start\", \"color\": \"#000000\", \"text\": \"Killed, soldiers, captain\", \"coordinates\": \"axes\", \"zorder\": 1000003.0, \"alpha\": 1, \"fontsize\": 12.0, \"position\": [0.78209605414746564, 0.72939068100358417], \"rotation\": -0.0, \"id\": \"el348854605848144\"}], \"zoomable\": true, \"images\": [], \"xdomain\": [-0.70189582032870046, 0.71051473536226761], \"ylim\": [-0.70830339802964049, 0.69370701811001245], \"paths\": [{\"edgecolor\": \"#000000\", \"facecolor\": \"#FFFFFF\", \"edgewidth\": 1.0, \"pathcodes\": [\"M\", \"L\", \"L\", \"L\", \"L\", \"Z\"], \"yindex\": 1, \"coordinates\": \"axes\", \"dasharray\": \"10,0\", \"zorder\": 1000001.0, \"alpha\": 1, \"xindex\": 0, \"data\": \"data07\", \"id\": \"el348854597028880\"}], \"sharey\": [], \"sharex\": [], \"axesbgalpha\": null, \"axes\": [{\"scale\": \"linear\", \"tickformat\": \"\", \"grid\": {\"gridOn\": false}, \"fontsize\": null, \"position\": \"bottom\", \"nticks\": 0, \"tickvalues\": []}, {\"scale\": \"linear\", \"tickformat\": \"\", \"grid\": {\"gridOn\": false}, \"fontsize\": null, \"position\": \"left\", \"nticks\": 0, \"tickvalues\": []}], \"lines\": [], \"markers\": [{\"edgecolor\": \"none\", \"facecolor\": \"#1B9E77\", \"edgewidth\": 0.5, \"yindex\": 1, \"coordinates\": \"data\", \"zorder\": 2, \"markerpath\": [[[0.0, 9.0], [2.3868279, 9.0], [4.676218837063681, 8.051703224294176], [6.3639610306789285, 6.3639610306789285], [8.051703224294176, 4.676218837063681], [9.0, 2.3868279], [9.0, 0.0], [9.0, -2.3868279], [8.051703224294176, -4.676218837063681], [6.3639610306789285, -6.3639610306789285], [4.676218837063681, -8.051703224294176], [2.3868279, -9.0], [0.0, -9.0], [-2.3868279, -9.0], [-4.676218837063681, -8.051703224294176], [-6.3639610306789285, -6.3639610306789285], [-8.051703224294176, -4.676218837063681], [-9.0, -2.3868279], [-9.0, 0.0], [-9.0, 2.3868279], [-8.051703224294176, 4.676218837063681], [-6.3639610306789285, 6.3639610306789285], [-4.676218837063681, 8.051703224294176], [-2.3868279, 9.0], [0.0, 9.0]], [\"M\", \"C\", \"C\", \"C\", \"C\", \"C\", \"C\", \"C\", \"C\", \"Z\"]], \"alpha\": 1, \"xindex\": 0, \"data\": \"data01\", \"id\": \"el348854597029712pts\"}, {\"edgecolor\": \"none\", \"facecolor\": \"#D95F02\", \"edgewidth\": 0.5, \"yindex\": 1, \"coordinates\": \"data\", \"zorder\": 2, \"markerpath\": [[[0.0, 9.0], [2.3868279, 9.0], [4.676218837063681, 8.051703224294176], [6.3639610306789285, 6.3639610306789285], [8.051703224294176, 4.676218837063681], [9.0, 2.3868279], [9.0, 0.0], [9.0, -2.3868279], [8.051703224294176, -4.676218837063681], [6.3639610306789285, -6.3639610306789285], [4.676218837063681, -8.051703224294176], [2.3868279, -9.0], [0.0, -9.0], [-2.3868279, -9.0], [-4.676218837063681, -8.051703224294176], [-6.3639610306789285, -6.3639610306789285], [-8.051703224294176, -4.676218837063681], [-9.0, -2.3868279], [-9.0, 0.0], [-9.0, 2.3868279], [-8.051703224294176, 4.676218837063681], [-6.3639610306789285, 6.3639610306789285], [-4.676218837063681, 8.051703224294176], [-2.3868279, 9.0], [0.0, 9.0]], [\"M\", \"C\", \"C\", \"C\", \"C\", \"C\", \"C\", \"C\", \"C\", \"Z\"]], \"alpha\": 1, \"xindex\": 0, \"data\": \"data02\", \"id\": \"el348854597030096pts\"}, {\"edgecolor\": \"none\", \"facecolor\": \"#7570B3\", \"edgewidth\": 0.5, \"yindex\": 1, \"coordinates\": \"data\", \"zorder\": 2, \"markerpath\": [[[0.0, 9.0], [2.3868279, 9.0], [4.676218837063681, 8.051703224294176], [6.3639610306789285, 6.3639610306789285], [8.051703224294176, 4.676218837063681], [9.0, 2.3868279], [9.0, 0.0], [9.0, -2.3868279], [8.051703224294176, -4.676218837063681], [6.3639610306789285, -6.3639610306789285], [4.676218837063681, -8.051703224294176], [2.3868279, -9.0], [0.0, -9.0], [-2.3868279, -9.0], [-4.676218837063681, -8.051703224294176], [-6.3639610306789285, -6.3639610306789285], [-8.051703224294176, -4.676218837063681], [-9.0, -2.3868279], [-9.0, 0.0], [-9.0, 2.3868279], [-8.051703224294176, 4.676218837063681], [-6.3639610306789285, 6.3639610306789285], [-4.676218837063681, 8.051703224294176], [-2.3868279, 9.0], [0.0, 9.0]], [\"M\", \"C\", \"C\", \"C\", \"C\", \"C\", \"C\", \"C\", \"C\", \"Z\"]], \"alpha\": 1, \"xindex\": 0, \"data\": \"data03\", \"id\": \"el348854522958160pts\"}, {\"edgecolor\": \"none\", \"facecolor\": \"#E7298A\", \"edgewidth\": 0.5, \"yindex\": 1, \"coordinates\": \"data\", \"zorder\": 2, \"markerpath\": [[[0.0, 9.0], [2.3868279, 9.0], [4.676218837063681, 8.051703224294176], [6.3639610306789285, 6.3639610306789285], [8.051703224294176, 4.676218837063681], [9.0, 2.3868279], [9.0, 0.0], [9.0, -2.3868279], [8.051703224294176, -4.676218837063681], [6.3639610306789285, -6.3639610306789285], [4.676218837063681, -8.051703224294176], [2.3868279, -9.0], [0.0, -9.0], [-2.3868279, -9.0], [-4.676218837063681, -8.051703224294176], [-6.3639610306789285, -6.3639610306789285], [-8.051703224294176, -4.676218837063681], [-9.0, -2.3868279], [-9.0, 0.0], [-9.0, 2.3868279], [-8.051703224294176, 4.676218837063681], [-6.3639610306789285, 6.3639610306789285], [-4.676218837063681, 8.051703224294176], [-2.3868279, 9.0], [0.0, 9.0]], [\"M\", \"C\", \"C\", \"C\", \"C\", \"C\", \"C\", \"C\", \"C\", \"Z\"]], \"alpha\": 1, \"xindex\": 0, \"data\": \"data04\", \"id\": \"el348854541027280pts\"}, {\"edgecolor\": \"none\", \"facecolor\": \"#66A61E\", \"edgewidth\": 0.5, \"yindex\": 1, \"coordinates\": \"data\", \"zorder\": 2, \"markerpath\": [[[0.0, 9.0], [2.3868279, 9.0], [4.676218837063681, 8.051703224294176], [6.3639610306789285, 6.3639610306789285], [8.051703224294176, 4.676218837063681], [9.0, 2.3868279], [9.0, 0.0], [9.0, -2.3868279], [8.051703224294176, -4.676218837063681], [6.3639610306789285, -6.3639610306789285], [4.676218837063681, -8.051703224294176], [2.3868279, -9.0], [0.0, -9.0], [-2.3868279, -9.0], [-4.676218837063681, -8.051703224294176], [-6.3639610306789285, -6.3639610306789285], [-8.051703224294176, -4.676218837063681], [-9.0, -2.3868279], [-9.0, 0.0], [-9.0, 2.3868279], [-8.051703224294176, 4.676218837063681], [-6.3639610306789285, 6.3639610306789285], [-4.676218837063681, 8.051703224294176], [-2.3868279, 9.0], [0.0, 9.0]], [\"M\", \"C\", \"C\", \"C\", \"C\", \"C\", \"C\", \"C\", \"C\", \"Z\"]], \"alpha\": 1, \"xindex\": 0, \"data\": \"data05\", \"id\": \"el348854524497104pts\"}, {\"edgecolor\": \"none\", \"facecolor\": \"#1B9E77\", \"edgewidth\": 0.5, \"yindex\": 1, \"coordinates\": \"axes\", \"zorder\": 1000002.0, \"markerpath\": [[[0.0, 9.0], [2.3868279, 9.0], [4.676218837063681, 8.051703224294176], [6.3639610306789285, 6.3639610306789285], [8.051703224294176, 4.676218837063681], [9.0, 2.3868279], [9.0, 0.0], [9.0, -2.3868279], [8.051703224294176, -4.676218837063681], [6.3639610306789285, -6.3639610306789285], [4.676218837063681, -8.051703224294176], [2.3868279, -9.0], [0.0, -9.0], [-2.3868279, -9.0], [-4.676218837063681, -8.051703224294176], [-6.3639610306789285, -6.3639610306789285], [-8.051703224294176, -4.676218837063681], [-9.0, -2.3868279], [-9.0, 0.0], [-9.0, 2.3868279], [-8.051703224294176, 4.676218837063681], [-6.3639610306789285, 6.3639610306789285], [-4.676218837063681, 8.051703224294176], [-2.3868279, 9.0], [0.0, 9.0]], [\"M\", \"C\", \"C\", \"C\", \"C\", \"C\", \"C\", \"C\", \"C\", \"Z\"]], \"alpha\": 1, \"xindex\": 0, \"data\": \"data06\", \"id\": \"el348854605871952pts\"}, {\"edgecolor\": \"none\", \"facecolor\": \"#D95F02\", \"edgewidth\": 0.5, \"yindex\": 2, \"coordinates\": \"axes\", \"zorder\": 1000002.0, \"markerpath\": [[[0.0, 9.0], [2.3868279, 9.0], [4.676218837063681, 8.051703224294176], [6.3639610306789285, 6.3639610306789285], [8.051703224294176, 4.676218837063681], [9.0, 2.3868279], [9.0, 0.0], [9.0, -2.3868279], [8.051703224294176, -4.676218837063681], [6.3639610306789285, -6.3639610306789285], [4.676218837063681, -8.051703224294176], [2.3868279, -9.0], [0.0, -9.0], [-2.3868279, -9.0], [-4.676218837063681, -8.051703224294176], [-6.3639610306789285, -6.3639610306789285], [-8.051703224294176, -4.676218837063681], [-9.0, -2.3868279], [-9.0, 0.0], [-9.0, 2.3868279], [-8.051703224294176, 4.676218837063681], [-6.3639610306789285, 6.3639610306789285], [-4.676218837063681, 8.051703224294176], [-2.3868279, 9.0], [0.0, 9.0]], [\"M\", \"C\", \"C\", \"C\", \"C\", \"C\", \"C\", \"C\", \"C\", \"Z\"]], \"alpha\": 1, \"xindex\": 0, \"data\": \"data06\", \"id\": \"el348854516867152pts\"}, {\"edgecolor\": \"none\", \"facecolor\": \"#7570B3\", \"edgewidth\": 0.5, \"yindex\": 3, \"coordinates\": \"axes\", \"zorder\": 1000002.0, \"markerpath\": [[[0.0, 9.0], [2.3868279, 9.0], [4.676218837063681, 8.051703224294176], [6.3639610306789285, 6.3639610306789285], [8.051703224294176, 4.676218837063681], [9.0, 2.3868279], [9.0, 0.0], [9.0, -2.3868279], [8.051703224294176, -4.676218837063681], [6.3639610306789285, -6.3639610306789285], [4.676218837063681, -8.051703224294176], [2.3868279, -9.0], [0.0, -9.0], [-2.3868279, -9.0], [-4.676218837063681, -8.051703224294176], [-6.3639610306789285, -6.3639610306789285], [-8.051703224294176, -4.676218837063681], [-9.0, -2.3868279], [-9.0, 0.0], [-9.0, 2.3868279], [-8.051703224294176, 4.676218837063681], [-6.3639610306789285, 6.3639610306789285], [-4.676218837063681, 8.051703224294176], [-2.3868279, 9.0], [0.0, 9.0]], [\"M\", \"C\", \"C\", \"C\", \"C\", \"C\", \"C\", \"C\", \"C\", \"Z\"]], \"alpha\": 1, \"xindex\": 0, \"data\": \"data06\", \"id\": \"el348854516864080pts\"}, {\"edgecolor\": \"none\", \"facecolor\": \"#E7298A\", \"edgewidth\": 0.5, \"yindex\": 4, \"coordinates\": \"axes\", \"zorder\": 1000002.0, \"markerpath\": [[[0.0, 9.0], [2.3868279, 9.0], [4.676218837063681, 8.051703224294176], [6.3639610306789285, 6.3639610306789285], [8.051703224294176, 4.676218837063681], [9.0, 2.3868279], [9.0, 0.0], [9.0, -2.3868279], [8.051703224294176, -4.676218837063681], [6.3639610306789285, -6.3639610306789285], [4.676218837063681, -8.051703224294176], [2.3868279, -9.0], [0.0, -9.0], [-2.3868279, -9.0], [-4.676218837063681, -8.051703224294176], [-6.3639610306789285, -6.3639610306789285], [-8.051703224294176, -4.676218837063681], [-9.0, -2.3868279], [-9.0, 0.0], [-9.0, 2.3868279], [-8.051703224294176, 4.676218837063681], [-6.3639610306789285, 6.3639610306789285], [-4.676218837063681, 8.051703224294176], [-2.3868279, 9.0], [0.0, 9.0]], [\"M\", \"C\", \"C\", \"C\", \"C\", \"C\", \"C\", \"C\", \"C\", \"Z\"]], \"alpha\": 1, \"xindex\": 0, \"data\": \"data06\", \"id\": \"el348854605848592pts\"}, {\"edgecolor\": \"none\", \"facecolor\": \"#66A61E\", \"edgewidth\": 0.5, \"yindex\": 5, \"coordinates\": \"axes\", \"zorder\": 1000002.0, \"markerpath\": [[[0.0, 9.0], [2.3868279, 9.0], [4.676218837063681, 8.051703224294176], [6.3639610306789285, 6.3639610306789285], [8.051703224294176, 4.676218837063681], [9.0, 2.3868279], [9.0, 0.0], [9.0, -2.3868279], [8.051703224294176, -4.676218837063681], [6.3639610306789285, -6.3639610306789285], [4.676218837063681, -8.051703224294176], [2.3868279, -9.0], [0.0, -9.0], [-2.3868279, -9.0], [-4.676218837063681, -8.051703224294176], [-6.3639610306789285, -6.3639610306789285], [-8.051703224294176, -4.676218837063681], [-9.0, -2.3868279], [-9.0, 0.0], [-9.0, 2.3868279], [-8.051703224294176, 4.676218837063681], [-6.3639610306789285, 6.3639610306789285], [-4.676218837063681, 8.051703224294176], [-2.3868279, 9.0], [0.0, 9.0]], [\"M\", \"C\", \"C\", \"C\", \"C\", \"C\", \"C\", \"C\", \"C\", \"Z\"]], \"alpha\": 1, \"xindex\": 0, \"data\": \"data06\", \"id\": \"el348854605905744pts\"}], \"id\": \"el348854541852880\", \"ydomain\": [-0.70830339802964049, 0.69370701811001245], \"collections\": [], \"xscale\": \"linear\", \"bbox\": [0.125, 0.125, 0.77500000000000002, 0.77500000000000002]}], \"height\": 480.0, \"width\": 1120.0, \"plugins\": [{\"type\": \"reset\"}, {\"enabled\": false, \"button\": true, \"type\": \"zoom\"}, {\"enabled\": false, \"button\": true, \"type\": \"boxzoom\"}, {\"voffset\": 10, \"labels\": [\"Schindler's List\", \"One Flew Over the Cuckoo's Nest\", \"Gone with the Wind\", \"The Wizard of Oz\", \"Titanic\", \"Forrest Gump\", \"E.T. the Extra-Terrestrial\", \"The Silence of the Lambs\", \"Gandhi\", \"A Streetcar Named Desire\", \"The Best Years of Our Lives\", \"My Fair Lady\", \"Ben-Hur\", \"Doctor Zhivago\", \"The Pianist\", \"The Exorcist\", \"Out of Africa\", \"Good Will Hunting\", \"Terms of Endearment\", \"Giant\", \"The Grapes of Wrath\", \"Close Encounters of the Third Kind\", \"The Graduate\", \"Stagecoach\", \"Wuthering Heights\"], \"type\": \"htmltooltip\", \"id\": \"el348854597029712pts\", \"hoffset\": 10}, {\"type\": \"toptoolbar\"}, {\"voffset\": 10, \"labels\": [\"Casablanca\", \"Psycho\", \"Sunset Blvd.\", \"Vertigo\", \"Chinatown\", \"Amadeus\", \"High Noon\", \"The French Connection\", \"Fargo\", \"Pulp Fiction\", \"The Maltese Falcon\", \"A Clockwork Orange\", \"Double Indemnity\", \"Rebel Without a Cause\", \"The Third Man\", \"North by Northwest\"], \"type\": \"htmltooltip\", \"id\": \"el348854597030096pts\", \"hoffset\": 10}, {\"type\": \"toptoolbar\"}, {\"voffset\": 10, \"labels\": [\"The Godfather\", \"Raging Bull\", \"Citizen Kane\", \"The Godfather: Part II\", \"On the Waterfront\", \"12 Angry Men\", \"Rocky\", \"To Kill a Mockingbird\", \"Braveheart\", \"The Good, the Bad and the Ugly\", \"The Apartment\", \"Goodfellas\", \"City Lights\", \"It Happened One Night\", \"Midnight Cowboy\", \"Mr. Smith Goes to Washington\", \"Rain Man\", \"Annie Hall\", \"Network\", \"Taxi Driver\", \"Rear Window\"], \"type\": \"htmltooltip\", \"id\": \"el348854522958160pts\", \"hoffset\": 10}, {\"type\": \"toptoolbar\"}, {\"voffset\": 10, \"labels\": [\"West Side Story\", \"Singin' in the Rain\", \"It's a Wonderful Life\", \"Some Like It Hot\", \"The Philadelphia Story\", \"An American in Paris\", \"The King's Speech\", \"A Place in the Sun\", \"Tootsie\", \"Nashville\", \"American Graffiti\", \"Yankee Doodle Dandy\"], \"type\": \"htmltooltip\", \"id\": \"el348854541027280pts\", \"hoffset\": 10}, {\"type\": \"toptoolbar\"}, {\"voffset\": 10, \"labels\": [\"The Shawshank Redemption\", \"Lawrence of Arabia\", \"The Sound of Music\", \"Star Wars\", \"2001: A Space Odyssey\", \"The Bridge on the River Kwai\", \"Dr. Strangelove or: How I Learned to Stop Worrying and Love the Bomb\", \"Apocalypse Now\", \"The Lord of the Rings: The Return of the King\", \"Gladiator\", \"From Here to Eternity\", \"Saving Private Ryan\", \"Unforgiven\", \"Raiders of the Lost Ark\", \"Patton\", \"Jaws\", \"Butch Cassidy and the Sundance Kid\", \"The Treasure of the Sierra Madre\", \"Platoon\", \"Dances with Wolves\", \"The Deer Hunter\", \"All Quiet on the Western Front\", \"Shane\", \"The Green Mile\", \"The African Queen\", \"Mutiny on the Bounty\"], \"type\": \"htmltooltip\", \"id\": \"el348854524497104pts\", \"hoffset\": 10}, {\"type\": \"toptoolbar\"}], \"data\": {\"data06\": [[0.7544462845622121, 0.9534050179211467, 0.9005376344086019, 0.8476702508960573, 0.7948028673835125, 0.7419354838709676]], \"data07\": [[0.7329409082181261, 0.7069892473118278], [0.9923195084485409, 0.7069892473118278], [0.9923195084485409, 0.9820788530465947], [0.7329409082181261, 0.9820788530465947], [0.7329409082181261, 0.7069892473118278]], \"data04\": [[-0.48383166475045314, 0.17406382605759155], [-0.3431621006015567, 0.6339455084054434], [0.42023926967786635, 0.585073332726518], [-0.17325065040967416, 0.23163649164649666], [0.6705408517106365, 0.1152867311811776], [-0.20507682543002934, 0.5602431727781544], [0.4029759387982718, 0.4993894350885348], [0.6671527866782192, 0.2655632808140779], [-0.02368751477042728, 0.34058596130883056], [0.06057638900463016, 0.6101307798961454], [-0.6012117652228453, -0.04229065076764765], [0.6299986440743635, 0.35408489380322294]], \"data05\": [[0.4425217895905002, -0.2796139796878817], [-0.24776866601229716, -0.5782685424165561], [0.5555461511292237, 0.486954891259419], [0.19708753275222002, -0.38902709232046384], [0.3497144798998901, -0.338553421833173], [-0.07419701411754268, -0.5782948227044011], [-0.014592308929045296, -0.6368511048162793], [0.025373394060233537, -0.634289200597481], [0.24399849236205579, -0.5034936076710894], [0.07277111225479607, -0.47961483445651304], [-0.1519065165847722, -0.338080020776755], [-0.015830214134386178, -0.36229007847066996], [-0.13402784922090072, -0.3012324095400005], [-0.23474733283083896, -0.4502062748678493], [0.12924047876683878, -0.6686238579502164], [0.08194147679809109, -0.3929722898416771], [-0.34747538257781435, -0.3233751877512795], [-0.3631413985443942, -0.4813272206475685], [-0.09731550319802962, -0.505864130911545], [0.18513473762402247, -0.5781596431297301], [-0.09597244991104013, -0.19942409220233107], [-0.18228725458498232, -0.5566467223632475], [-0.551994202072232, 0.33486446230226674], [-0.5679692454857176, -0.35356444529282777], [-0.45369369757595834, -0.44434234569143366], [0.3366116741827183, -0.6447240310583208]], \"data02\": [[-0.2476475600239232, -0.26290199748846194], [-0.22919155130164443, 0.06968880208772948], [-0.42967373628736466, 0.28652830354480197], [-0.3531795894914802, 0.12742474874876483], [-0.5517590615479852, -0.22488031423191712], [0.4134372284409409, 0.40907893375027393], [-0.6619219366770693, -0.20578641688667848], [-0.4603909162269872, 0.008430725029157468], [-0.3422448822106277, 0.03699561151307461], [-0.3438274431555653, -0.06956150821349773], [-0.3384187737692901, -0.1515124959398215], [-0.18283874549876644, 0.14829844310283077], [-0.46586683087784553, -0.09919136771199337], [-0.577910557660688, 0.28870430670538155], [-0.20956788370183355, -0.0574148454899521], [-0.20029308653202116, 0.00718931223386455]], \"data03\": [[0.18558490034956887, -0.01077771968604301], [-0.13262115988334475, 0.5751789037009231], [0.016222043434641144, 0.4652342083561871], [0.07240937947290513, 0.13247203862675336], [-0.05239281560115413, 0.12267112673062845], [0.5241688637949986, 0.14425768177773893], [-0.2825557188697044, 0.2745647039405087], [0.21864153351095966, 0.22101476971173736], [0.49293979852148206, -0.1406180288639719], [-0.07221741889036004, 0.5688366094319275], [-0.5967680343768968, 0.1894475004960752], [0.2030557040289471, 0.06941302351286169], [0.5649139525233913, 0.34616110908884656], [-0.42188287709302075, 0.4618936364485825], [-0.30512268820937116, 0.4768633838569787], [0.6449291941438089, -0.15516297397920956], [-0.18081125741175175, 0.4765240199441122], [-0.027643220902818993, 0.6540274780305884], [0.6687778032882542, -0.08795572251657516], [-0.5534118533588518, 0.02875489034480997], [-0.5807159767006421, 0.10579656075156939]], \"data01\": [[-0.0777242299467317, -0.4515361500051302], [0.05143904563855998, 0.25947569793979247], [0.05926003443907459, -0.04759931281928853], [-0.4336747338877505, -0.2971244895104658], [0.6035469203843735, -0.3456193989894745], [0.35577780891092403, 0.007409352966807421], [-0.019806795422961994, -0.044100107912120406], [0.5183164260703591, -0.25353575550390045], [0.43257291891111244, 0.1381593571372851], [0.3437182373924481, 0.24527960034963084], [0.31733764740406106, 0.08349042218139716], [-0.19661734109288, 0.39627304179640405], [0.3443594003836902, -0.13069722017172503], [0.1620196922509593, -0.11876438020876365], [0.1563956093287554, -0.21269443337356803], [0.17499103541231237, 0.2985373547088241], [0.12782499859472804, 0.4815648223887244], [0.12523150357922094, 0.41721548160929905], [0.2219315942794893, 0.47877846167983906], [0.48413541386850095, 0.008757361949769692], [0.4755390685857624, -0.4356393509319867], [0.27427215751846695, -0.2940897904508699], [-0.32213342140019896, 0.33175887910243107], [0.3241754832842173, -0.45547190176887226], [0.18462105786497715, 0.5797922578764358]]}, \"id\": \"el348854595386064\"});\n",
              "      });\n",
              "    });\n",
              "}else{\n",
              "    // require.js not available: dynamically load d3 & mpld3\n",
              "    mpld3_load_lib(\"https://mpld3.github.io/js/d3.v3.min.js\", function(){\n",
              "         mpld3_load_lib(\"https://mpld3.github.io/js/mpld3.v0.2.js\", function(){\n",
              "                 \n",
              "    mpld3.register_plugin(\"htmltooltip\", HtmlTooltipPlugin);\n",
              "    HtmlTooltipPlugin.prototype = Object.create(mpld3.Plugin.prototype);\n",
              "    HtmlTooltipPlugin.prototype.constructor = HtmlTooltipPlugin;\n",
              "    HtmlTooltipPlugin.prototype.requiredProps = [\"id\"];\n",
              "    HtmlTooltipPlugin.prototype.defaultProps = {labels:null, hoffset:0, voffset:10};\n",
              "    function HtmlTooltipPlugin(fig, props){\n",
              "        mpld3.Plugin.call(this, fig, props);\n",
              "    };\n",
              "\n",
              "    HtmlTooltipPlugin.prototype.draw = function(){\n",
              "       var obj = mpld3.get_element(this.props.id);\n",
              "       var labels = this.props.labels;\n",
              "       var tooltip = d3.select(\"body\").append(\"div\")\n",
              "                    .attr(\"class\", \"mpld3-tooltip\")\n",
              "                    .style(\"position\", \"absolute\")\n",
              "                    .style(\"z-index\", \"10\")\n",
              "                    .style(\"visibility\", \"hidden\");\n",
              "\n",
              "       obj.elements()\n",
              "           .on(\"mouseover\", function(d, i){\n",
              "                              tooltip.html(labels[i])\n",
              "                                     .style(\"visibility\", \"visible\");})\n",
              "           .on(\"mousemove\", function(d, i){\n",
              "                    tooltip\n",
              "                      .style(\"top\", d3.event.pageY + this.props.voffset + \"px\")\n",
              "                      .style(\"left\",d3.event.pageX + this.props.hoffset + \"px\");\n",
              "                 }.bind(this))\n",
              "           .on(\"mouseout\",  function(d, i){\n",
              "                           tooltip.style(\"visibility\", \"hidden\");});\n",
              "    };\n",
              "    \n",
              "    mpld3.register_plugin(\"toptoolbar\", TopToolbar);\n",
              "    TopToolbar.prototype = Object.create(mpld3.Plugin.prototype);\n",
              "    TopToolbar.prototype.constructor = TopToolbar;\n",
              "    function TopToolbar(fig, props){\n",
              "        mpld3.Plugin.call(this, fig, props);\n",
              "    };\n",
              "\n",
              "    TopToolbar.prototype.draw = function(){\n",
              "      // the toolbar svg doesn't exist\n",
              "      // yet, so first draw it\n",
              "      this.fig.toolbar.draw();\n",
              "\n",
              "      // then change the y position to be\n",
              "      // at the top of the figure\n",
              "      this.fig.toolbar.toolbar.attr(\"x\", 150);\n",
              "      this.fig.toolbar.toolbar.attr(\"y\", 400);\n",
              "\n",
              "      // then remove the draw function,\n",
              "      // so that it is not called again\n",
              "      this.fig.toolbar.draw = function() {}\n",
              "    }\n",
              "    \n",
              "    mpld3.register_plugin(\"htmltooltip\", HtmlTooltipPlugin);\n",
              "    HtmlTooltipPlugin.prototype = Object.create(mpld3.Plugin.prototype);\n",
              "    HtmlTooltipPlugin.prototype.constructor = HtmlTooltipPlugin;\n",
              "    HtmlTooltipPlugin.prototype.requiredProps = [\"id\"];\n",
              "    HtmlTooltipPlugin.prototype.defaultProps = {labels:null, hoffset:0, voffset:10};\n",
              "    function HtmlTooltipPlugin(fig, props){\n",
              "        mpld3.Plugin.call(this, fig, props);\n",
              "    };\n",
              "\n",
              "    HtmlTooltipPlugin.prototype.draw = function(){\n",
              "       var obj = mpld3.get_element(this.props.id);\n",
              "       var labels = this.props.labels;\n",
              "       var tooltip = d3.select(\"body\").append(\"div\")\n",
              "                    .attr(\"class\", \"mpld3-tooltip\")\n",
              "                    .style(\"position\", \"absolute\")\n",
              "                    .style(\"z-index\", \"10\")\n",
              "                    .style(\"visibility\", \"hidden\");\n",
              "\n",
              "       obj.elements()\n",
              "           .on(\"mouseover\", function(d, i){\n",
              "                              tooltip.html(labels[i])\n",
              "                                     .style(\"visibility\", \"visible\");})\n",
              "           .on(\"mousemove\", function(d, i){\n",
              "                    tooltip\n",
              "                      .style(\"top\", d3.event.pageY + this.props.voffset + \"px\")\n",
              "                      .style(\"left\",d3.event.pageX + this.props.hoffset + \"px\");\n",
              "                 }.bind(this))\n",
              "           .on(\"mouseout\",  function(d, i){\n",
              "                           tooltip.style(\"visibility\", \"hidden\");});\n",
              "    };\n",
              "    \n",
              "    mpld3.register_plugin(\"toptoolbar\", TopToolbar);\n",
              "    TopToolbar.prototype = Object.create(mpld3.Plugin.prototype);\n",
              "    TopToolbar.prototype.constructor = TopToolbar;\n",
              "    function TopToolbar(fig, props){\n",
              "        mpld3.Plugin.call(this, fig, props);\n",
              "    };\n",
              "\n",
              "    TopToolbar.prototype.draw = function(){\n",
              "      // the toolbar svg doesn't exist\n",
              "      // yet, so first draw it\n",
              "      this.fig.toolbar.draw();\n",
              "\n",
              "      // then change the y position to be\n",
              "      // at the top of the figure\n",
              "      this.fig.toolbar.toolbar.attr(\"x\", 150);\n",
              "      this.fig.toolbar.toolbar.attr(\"y\", 400);\n",
              "\n",
              "      // then remove the draw function,\n",
              "      // so that it is not called again\n",
              "      this.fig.toolbar.draw = function() {}\n",
              "    }\n",
              "    \n",
              "    mpld3.register_plugin(\"htmltooltip\", HtmlTooltipPlugin);\n",
              "    HtmlTooltipPlugin.prototype = Object.create(mpld3.Plugin.prototype);\n",
              "    HtmlTooltipPlugin.prototype.constructor = HtmlTooltipPlugin;\n",
              "    HtmlTooltipPlugin.prototype.requiredProps = [\"id\"];\n",
              "    HtmlTooltipPlugin.prototype.defaultProps = {labels:null, hoffset:0, voffset:10};\n",
              "    function HtmlTooltipPlugin(fig, props){\n",
              "        mpld3.Plugin.call(this, fig, props);\n",
              "    };\n",
              "\n",
              "    HtmlTooltipPlugin.prototype.draw = function(){\n",
              "       var obj = mpld3.get_element(this.props.id);\n",
              "       var labels = this.props.labels;\n",
              "       var tooltip = d3.select(\"body\").append(\"div\")\n",
              "                    .attr(\"class\", \"mpld3-tooltip\")\n",
              "                    .style(\"position\", \"absolute\")\n",
              "                    .style(\"z-index\", \"10\")\n",
              "                    .style(\"visibility\", \"hidden\");\n",
              "\n",
              "       obj.elements()\n",
              "           .on(\"mouseover\", function(d, i){\n",
              "                              tooltip.html(labels[i])\n",
              "                                     .style(\"visibility\", \"visible\");})\n",
              "           .on(\"mousemove\", function(d, i){\n",
              "                    tooltip\n",
              "                      .style(\"top\", d3.event.pageY + this.props.voffset + \"px\")\n",
              "                      .style(\"left\",d3.event.pageX + this.props.hoffset + \"px\");\n",
              "                 }.bind(this))\n",
              "           .on(\"mouseout\",  function(d, i){\n",
              "                           tooltip.style(\"visibility\", \"hidden\");});\n",
              "    };\n",
              "    \n",
              "    mpld3.register_plugin(\"toptoolbar\", TopToolbar);\n",
              "    TopToolbar.prototype = Object.create(mpld3.Plugin.prototype);\n",
              "    TopToolbar.prototype.constructor = TopToolbar;\n",
              "    function TopToolbar(fig, props){\n",
              "        mpld3.Plugin.call(this, fig, props);\n",
              "    };\n",
              "\n",
              "    TopToolbar.prototype.draw = function(){\n",
              "      // the toolbar svg doesn't exist\n",
              "      // yet, so first draw it\n",
              "      this.fig.toolbar.draw();\n",
              "\n",
              "      // then change the y position to be\n",
              "      // at the top of the figure\n",
              "      this.fig.toolbar.toolbar.attr(\"x\", 150);\n",
              "      this.fig.toolbar.toolbar.attr(\"y\", 400);\n",
              "\n",
              "      // then remove the draw function,\n",
              "      // so that it is not called again\n",
              "      this.fig.toolbar.draw = function() {}\n",
              "    }\n",
              "    \n",
              "    mpld3.register_plugin(\"htmltooltip\", HtmlTooltipPlugin);\n",
              "    HtmlTooltipPlugin.prototype = Object.create(mpld3.Plugin.prototype);\n",
              "    HtmlTooltipPlugin.prototype.constructor = HtmlTooltipPlugin;\n",
              "    HtmlTooltipPlugin.prototype.requiredProps = [\"id\"];\n",
              "    HtmlTooltipPlugin.prototype.defaultProps = {labels:null, hoffset:0, voffset:10};\n",
              "    function HtmlTooltipPlugin(fig, props){\n",
              "        mpld3.Plugin.call(this, fig, props);\n",
              "    };\n",
              "\n",
              "    HtmlTooltipPlugin.prototype.draw = function(){\n",
              "       var obj = mpld3.get_element(this.props.id);\n",
              "       var labels = this.props.labels;\n",
              "       var tooltip = d3.select(\"body\").append(\"div\")\n",
              "                    .attr(\"class\", \"mpld3-tooltip\")\n",
              "                    .style(\"position\", \"absolute\")\n",
              "                    .style(\"z-index\", \"10\")\n",
              "                    .style(\"visibility\", \"hidden\");\n",
              "\n",
              "       obj.elements()\n",
              "           .on(\"mouseover\", function(d, i){\n",
              "                              tooltip.html(labels[i])\n",
              "                                     .style(\"visibility\", \"visible\");})\n",
              "           .on(\"mousemove\", function(d, i){\n",
              "                    tooltip\n",
              "                      .style(\"top\", d3.event.pageY + this.props.voffset + \"px\")\n",
              "                      .style(\"left\",d3.event.pageX + this.props.hoffset + \"px\");\n",
              "                 }.bind(this))\n",
              "           .on(\"mouseout\",  function(d, i){\n",
              "                           tooltip.style(\"visibility\", \"hidden\");});\n",
              "    };\n",
              "    \n",
              "    mpld3.register_plugin(\"toptoolbar\", TopToolbar);\n",
              "    TopToolbar.prototype = Object.create(mpld3.Plugin.prototype);\n",
              "    TopToolbar.prototype.constructor = TopToolbar;\n",
              "    function TopToolbar(fig, props){\n",
              "        mpld3.Plugin.call(this, fig, props);\n",
              "    };\n",
              "\n",
              "    TopToolbar.prototype.draw = function(){\n",
              "      // the toolbar svg doesn't exist\n",
              "      // yet, so first draw it\n",
              "      this.fig.toolbar.draw();\n",
              "\n",
              "      // then change the y position to be\n",
              "      // at the top of the figure\n",
              "      this.fig.toolbar.toolbar.attr(\"x\", 150);\n",
              "      this.fig.toolbar.toolbar.attr(\"y\", 400);\n",
              "\n",
              "      // then remove the draw function,\n",
              "      // so that it is not called again\n",
              "      this.fig.toolbar.draw = function() {}\n",
              "    }\n",
              "    \n",
              "    mpld3.register_plugin(\"htmltooltip\", HtmlTooltipPlugin);\n",
              "    HtmlTooltipPlugin.prototype = Object.create(mpld3.Plugin.prototype);\n",
              "    HtmlTooltipPlugin.prototype.constructor = HtmlTooltipPlugin;\n",
              "    HtmlTooltipPlugin.prototype.requiredProps = [\"id\"];\n",
              "    HtmlTooltipPlugin.prototype.defaultProps = {labels:null, hoffset:0, voffset:10};\n",
              "    function HtmlTooltipPlugin(fig, props){\n",
              "        mpld3.Plugin.call(this, fig, props);\n",
              "    };\n",
              "\n",
              "    HtmlTooltipPlugin.prototype.draw = function(){\n",
              "       var obj = mpld3.get_element(this.props.id);\n",
              "       var labels = this.props.labels;\n",
              "       var tooltip = d3.select(\"body\").append(\"div\")\n",
              "                    .attr(\"class\", \"mpld3-tooltip\")\n",
              "                    .style(\"position\", \"absolute\")\n",
              "                    .style(\"z-index\", \"10\")\n",
              "                    .style(\"visibility\", \"hidden\");\n",
              "\n",
              "       obj.elements()\n",
              "           .on(\"mouseover\", function(d, i){\n",
              "                              tooltip.html(labels[i])\n",
              "                                     .style(\"visibility\", \"visible\");})\n",
              "           .on(\"mousemove\", function(d, i){\n",
              "                    tooltip\n",
              "                      .style(\"top\", d3.event.pageY + this.props.voffset + \"px\")\n",
              "                      .style(\"left\",d3.event.pageX + this.props.hoffset + \"px\");\n",
              "                 }.bind(this))\n",
              "           .on(\"mouseout\",  function(d, i){\n",
              "                           tooltip.style(\"visibility\", \"hidden\");});\n",
              "    };\n",
              "    \n",
              "    mpld3.register_plugin(\"toptoolbar\", TopToolbar);\n",
              "    TopToolbar.prototype = Object.create(mpld3.Plugin.prototype);\n",
              "    TopToolbar.prototype.constructor = TopToolbar;\n",
              "    function TopToolbar(fig, props){\n",
              "        mpld3.Plugin.call(this, fig, props);\n",
              "    };\n",
              "\n",
              "    TopToolbar.prototype.draw = function(){\n",
              "      // the toolbar svg doesn't exist\n",
              "      // yet, so first draw it\n",
              "      this.fig.toolbar.draw();\n",
              "\n",
              "      // then change the y position to be\n",
              "      // at the top of the figure\n",
              "      this.fig.toolbar.toolbar.attr(\"x\", 150);\n",
              "      this.fig.toolbar.toolbar.attr(\"y\", 400);\n",
              "\n",
              "      // then remove the draw function,\n",
              "      // so that it is not called again\n",
              "      this.fig.toolbar.draw = function() {}\n",
              "    }\n",
              "    \n",
              "                 mpld3.draw_figure(\"fig_el3488545953860648211637234\", {\"axes\": [{\"xlim\": [-0.70189582032870046, 0.71051473536226761], \"yscale\": \"linear\", \"axesbg\": \"#FFFFFF\", \"texts\": [{\"v_baseline\": \"auto\", \"h_anchor\": \"start\", \"color\": \"#000000\", \"text\": \"Family, home, war\", \"coordinates\": \"axes\", \"zorder\": 1000003.0, \"alpha\": 1, \"fontsize\": 12.0, \"position\": [0.78209605414746564, 0.94086021505376327], \"rotation\": -0.0, \"id\": \"el348854605730704\"}, {\"v_baseline\": \"auto\", \"h_anchor\": \"start\", \"color\": \"#000000\", \"text\": \"Police, killed, murders\", \"coordinates\": \"axes\", \"zorder\": 1000003.0, \"alpha\": 1, \"fontsize\": 12.0, \"position\": [0.78209605414746564, 0.88799283154121844], \"rotation\": -0.0, \"id\": \"el348854605873616\"}, {\"v_baseline\": \"auto\", \"h_anchor\": \"start\", \"color\": \"#000000\", \"text\": \"Father, New York, brothers\", \"coordinates\": \"axes\", \"zorder\": 1000003.0, \"alpha\": 1, \"fontsize\": 12.0, \"position\": [0.78209605414746564, 0.83512544802867383], \"rotation\": -0.0, \"id\": \"el348854516866960\"}, {\"v_baseline\": \"auto\", \"h_anchor\": \"start\", \"color\": \"#000000\", \"text\": \"Dance, singing, love\", \"coordinates\": \"axes\", \"zorder\": 1000003.0, \"alpha\": 1, \"fontsize\": 12.0, \"position\": [0.78209605414746564, 0.782258064516129], \"rotation\": -0.0, \"id\": \"el348854516931152\"}, {\"v_baseline\": \"auto\", \"h_anchor\": \"start\", \"color\": \"#000000\", \"text\": \"Killed, soldiers, captain\", \"coordinates\": \"axes\", \"zorder\": 1000003.0, \"alpha\": 1, \"fontsize\": 12.0, \"position\": [0.78209605414746564, 0.72939068100358417], \"rotation\": -0.0, \"id\": \"el348854605848144\"}], \"zoomable\": true, \"images\": [], \"xdomain\": [-0.70189582032870046, 0.71051473536226761], \"ylim\": [-0.70830339802964049, 0.69370701811001245], \"paths\": [{\"edgecolor\": \"#000000\", \"facecolor\": \"#FFFFFF\", \"edgewidth\": 1.0, \"pathcodes\": [\"M\", \"L\", \"L\", \"L\", \"L\", \"Z\"], \"yindex\": 1, \"coordinates\": \"axes\", \"dasharray\": \"10,0\", \"zorder\": 1000001.0, \"alpha\": 1, \"xindex\": 0, \"data\": \"data07\", \"id\": \"el348854597028880\"}], \"sharey\": [], \"sharex\": [], \"axesbgalpha\": null, \"axes\": [{\"scale\": \"linear\", \"tickformat\": \"\", \"grid\": {\"gridOn\": false}, \"fontsize\": null, \"position\": \"bottom\", \"nticks\": 0, \"tickvalues\": []}, {\"scale\": \"linear\", \"tickformat\": \"\", \"grid\": {\"gridOn\": false}, \"fontsize\": null, \"position\": \"left\", \"nticks\": 0, \"tickvalues\": []}], \"lines\": [], \"markers\": [{\"edgecolor\": \"none\", \"facecolor\": \"#1B9E77\", \"edgewidth\": 0.5, \"yindex\": 1, \"coordinates\": \"data\", \"zorder\": 2, \"markerpath\": [[[0.0, 9.0], [2.3868279, 9.0], [4.676218837063681, 8.051703224294176], [6.3639610306789285, 6.3639610306789285], [8.051703224294176, 4.676218837063681], [9.0, 2.3868279], [9.0, 0.0], [9.0, -2.3868279], [8.051703224294176, -4.676218837063681], [6.3639610306789285, -6.3639610306789285], [4.676218837063681, -8.051703224294176], [2.3868279, -9.0], [0.0, -9.0], [-2.3868279, -9.0], [-4.676218837063681, -8.051703224294176], [-6.3639610306789285, -6.3639610306789285], [-8.051703224294176, -4.676218837063681], [-9.0, -2.3868279], [-9.0, 0.0], [-9.0, 2.3868279], [-8.051703224294176, 4.676218837063681], [-6.3639610306789285, 6.3639610306789285], [-4.676218837063681, 8.051703224294176], [-2.3868279, 9.0], [0.0, 9.0]], [\"M\", \"C\", \"C\", \"C\", \"C\", \"C\", \"C\", \"C\", \"C\", \"Z\"]], \"alpha\": 1, \"xindex\": 0, \"data\": \"data01\", \"id\": \"el348854597029712pts\"}, {\"edgecolor\": \"none\", \"facecolor\": \"#D95F02\", \"edgewidth\": 0.5, \"yindex\": 1, \"coordinates\": \"data\", \"zorder\": 2, \"markerpath\": [[[0.0, 9.0], [2.3868279, 9.0], [4.676218837063681, 8.051703224294176], [6.3639610306789285, 6.3639610306789285], [8.051703224294176, 4.676218837063681], [9.0, 2.3868279], [9.0, 0.0], [9.0, -2.3868279], [8.051703224294176, -4.676218837063681], [6.3639610306789285, -6.3639610306789285], [4.676218837063681, -8.051703224294176], [2.3868279, -9.0], [0.0, -9.0], [-2.3868279, -9.0], [-4.676218837063681, -8.051703224294176], [-6.3639610306789285, -6.3639610306789285], [-8.051703224294176, -4.676218837063681], [-9.0, -2.3868279], [-9.0, 0.0], [-9.0, 2.3868279], [-8.051703224294176, 4.676218837063681], [-6.3639610306789285, 6.3639610306789285], [-4.676218837063681, 8.051703224294176], [-2.3868279, 9.0], [0.0, 9.0]], [\"M\", \"C\", \"C\", \"C\", \"C\", \"C\", \"C\", \"C\", \"C\", \"Z\"]], \"alpha\": 1, \"xindex\": 0, \"data\": \"data02\", \"id\": \"el348854597030096pts\"}, {\"edgecolor\": \"none\", \"facecolor\": \"#7570B3\", \"edgewidth\": 0.5, \"yindex\": 1, \"coordinates\": \"data\", \"zorder\": 2, \"markerpath\": [[[0.0, 9.0], [2.3868279, 9.0], [4.676218837063681, 8.051703224294176], [6.3639610306789285, 6.3639610306789285], [8.051703224294176, 4.676218837063681], [9.0, 2.3868279], [9.0, 0.0], [9.0, -2.3868279], [8.051703224294176, -4.676218837063681], [6.3639610306789285, -6.3639610306789285], [4.676218837063681, -8.051703224294176], [2.3868279, -9.0], [0.0, -9.0], [-2.3868279, -9.0], [-4.676218837063681, -8.051703224294176], [-6.3639610306789285, -6.3639610306789285], [-8.051703224294176, -4.676218837063681], [-9.0, -2.3868279], [-9.0, 0.0], [-9.0, 2.3868279], [-8.051703224294176, 4.676218837063681], [-6.3639610306789285, 6.3639610306789285], [-4.676218837063681, 8.051703224294176], [-2.3868279, 9.0], [0.0, 9.0]], [\"M\", \"C\", \"C\", \"C\", \"C\", \"C\", \"C\", \"C\", \"C\", \"Z\"]], \"alpha\": 1, \"xindex\": 0, \"data\": \"data03\", \"id\": \"el348854522958160pts\"}, {\"edgecolor\": \"none\", \"facecolor\": \"#E7298A\", \"edgewidth\": 0.5, \"yindex\": 1, \"coordinates\": \"data\", \"zorder\": 2, \"markerpath\": [[[0.0, 9.0], [2.3868279, 9.0], [4.676218837063681, 8.051703224294176], [6.3639610306789285, 6.3639610306789285], [8.051703224294176, 4.676218837063681], [9.0, 2.3868279], [9.0, 0.0], [9.0, -2.3868279], [8.051703224294176, -4.676218837063681], [6.3639610306789285, -6.3639610306789285], [4.676218837063681, -8.051703224294176], [2.3868279, -9.0], [0.0, -9.0], [-2.3868279, -9.0], [-4.676218837063681, -8.051703224294176], [-6.3639610306789285, -6.3639610306789285], [-8.051703224294176, -4.676218837063681], [-9.0, -2.3868279], [-9.0, 0.0], [-9.0, 2.3868279], [-8.051703224294176, 4.676218837063681], [-6.3639610306789285, 6.3639610306789285], [-4.676218837063681, 8.051703224294176], [-2.3868279, 9.0], [0.0, 9.0]], [\"M\", \"C\", \"C\", \"C\", \"C\", \"C\", \"C\", \"C\", \"C\", \"Z\"]], \"alpha\": 1, \"xindex\": 0, \"data\": \"data04\", \"id\": \"el348854541027280pts\"}, {\"edgecolor\": \"none\", \"facecolor\": \"#66A61E\", \"edgewidth\": 0.5, \"yindex\": 1, \"coordinates\": \"data\", \"zorder\": 2, \"markerpath\": [[[0.0, 9.0], [2.3868279, 9.0], [4.676218837063681, 8.051703224294176], [6.3639610306789285, 6.3639610306789285], [8.051703224294176, 4.676218837063681], [9.0, 2.3868279], [9.0, 0.0], [9.0, -2.3868279], [8.051703224294176, -4.676218837063681], [6.3639610306789285, -6.3639610306789285], [4.676218837063681, -8.051703224294176], [2.3868279, -9.0], [0.0, -9.0], [-2.3868279, -9.0], [-4.676218837063681, -8.051703224294176], [-6.3639610306789285, -6.3639610306789285], [-8.051703224294176, -4.676218837063681], [-9.0, -2.3868279], [-9.0, 0.0], [-9.0, 2.3868279], [-8.051703224294176, 4.676218837063681], [-6.3639610306789285, 6.3639610306789285], [-4.676218837063681, 8.051703224294176], [-2.3868279, 9.0], [0.0, 9.0]], [\"M\", \"C\", \"C\", \"C\", \"C\", \"C\", \"C\", \"C\", \"C\", \"Z\"]], \"alpha\": 1, \"xindex\": 0, \"data\": \"data05\", \"id\": \"el348854524497104pts\"}, {\"edgecolor\": \"none\", \"facecolor\": \"#1B9E77\", \"edgewidth\": 0.5, \"yindex\": 1, \"coordinates\": \"axes\", \"zorder\": 1000002.0, \"markerpath\": [[[0.0, 9.0], [2.3868279, 9.0], [4.676218837063681, 8.051703224294176], [6.3639610306789285, 6.3639610306789285], [8.051703224294176, 4.676218837063681], [9.0, 2.3868279], [9.0, 0.0], [9.0, -2.3868279], [8.051703224294176, -4.676218837063681], [6.3639610306789285, -6.3639610306789285], [4.676218837063681, -8.051703224294176], [2.3868279, -9.0], [0.0, -9.0], [-2.3868279, -9.0], [-4.676218837063681, -8.051703224294176], [-6.3639610306789285, -6.3639610306789285], [-8.051703224294176, -4.676218837063681], [-9.0, -2.3868279], [-9.0, 0.0], [-9.0, 2.3868279], [-8.051703224294176, 4.676218837063681], [-6.3639610306789285, 6.3639610306789285], [-4.676218837063681, 8.051703224294176], [-2.3868279, 9.0], [0.0, 9.0]], [\"M\", \"C\", \"C\", \"C\", \"C\", \"C\", \"C\", \"C\", \"C\", \"Z\"]], \"alpha\": 1, \"xindex\": 0, \"data\": \"data06\", \"id\": \"el348854605871952pts\"}, {\"edgecolor\": \"none\", \"facecolor\": \"#D95F02\", \"edgewidth\": 0.5, \"yindex\": 2, \"coordinates\": \"axes\", \"zorder\": 1000002.0, \"markerpath\": [[[0.0, 9.0], [2.3868279, 9.0], [4.676218837063681, 8.051703224294176], [6.3639610306789285, 6.3639610306789285], [8.051703224294176, 4.676218837063681], [9.0, 2.3868279], [9.0, 0.0], [9.0, -2.3868279], [8.051703224294176, -4.676218837063681], [6.3639610306789285, -6.3639610306789285], [4.676218837063681, -8.051703224294176], [2.3868279, -9.0], [0.0, -9.0], [-2.3868279, -9.0], [-4.676218837063681, -8.051703224294176], [-6.3639610306789285, -6.3639610306789285], [-8.051703224294176, -4.676218837063681], [-9.0, -2.3868279], [-9.0, 0.0], [-9.0, 2.3868279], [-8.051703224294176, 4.676218837063681], [-6.3639610306789285, 6.3639610306789285], [-4.676218837063681, 8.051703224294176], [-2.3868279, 9.0], [0.0, 9.0]], [\"M\", \"C\", \"C\", \"C\", \"C\", \"C\", \"C\", \"C\", \"C\", \"Z\"]], \"alpha\": 1, \"xindex\": 0, \"data\": \"data06\", \"id\": \"el348854516867152pts\"}, {\"edgecolor\": \"none\", \"facecolor\": \"#7570B3\", \"edgewidth\": 0.5, \"yindex\": 3, \"coordinates\": \"axes\", \"zorder\": 1000002.0, \"markerpath\": [[[0.0, 9.0], [2.3868279, 9.0], [4.676218837063681, 8.051703224294176], [6.3639610306789285, 6.3639610306789285], [8.051703224294176, 4.676218837063681], [9.0, 2.3868279], [9.0, 0.0], [9.0, -2.3868279], [8.051703224294176, -4.676218837063681], [6.3639610306789285, -6.3639610306789285], [4.676218837063681, -8.051703224294176], [2.3868279, -9.0], [0.0, -9.0], [-2.3868279, -9.0], [-4.676218837063681, -8.051703224294176], [-6.3639610306789285, -6.3639610306789285], [-8.051703224294176, -4.676218837063681], [-9.0, -2.3868279], [-9.0, 0.0], [-9.0, 2.3868279], [-8.051703224294176, 4.676218837063681], [-6.3639610306789285, 6.3639610306789285], [-4.676218837063681, 8.051703224294176], [-2.3868279, 9.0], [0.0, 9.0]], [\"M\", \"C\", \"C\", \"C\", \"C\", \"C\", \"C\", \"C\", \"C\", \"Z\"]], \"alpha\": 1, \"xindex\": 0, \"data\": \"data06\", \"id\": \"el348854516864080pts\"}, {\"edgecolor\": \"none\", \"facecolor\": \"#E7298A\", \"edgewidth\": 0.5, \"yindex\": 4, \"coordinates\": \"axes\", \"zorder\": 1000002.0, \"markerpath\": [[[0.0, 9.0], [2.3868279, 9.0], [4.676218837063681, 8.051703224294176], [6.3639610306789285, 6.3639610306789285], [8.051703224294176, 4.676218837063681], [9.0, 2.3868279], [9.0, 0.0], [9.0, -2.3868279], [8.051703224294176, -4.676218837063681], [6.3639610306789285, -6.3639610306789285], [4.676218837063681, -8.051703224294176], [2.3868279, -9.0], [0.0, -9.0], [-2.3868279, -9.0], [-4.676218837063681, -8.051703224294176], [-6.3639610306789285, -6.3639610306789285], [-8.051703224294176, -4.676218837063681], [-9.0, -2.3868279], [-9.0, 0.0], [-9.0, 2.3868279], [-8.051703224294176, 4.676218837063681], [-6.3639610306789285, 6.3639610306789285], [-4.676218837063681, 8.051703224294176], [-2.3868279, 9.0], [0.0, 9.0]], [\"M\", \"C\", \"C\", \"C\", \"C\", \"C\", \"C\", \"C\", \"C\", \"Z\"]], \"alpha\": 1, \"xindex\": 0, \"data\": \"data06\", \"id\": \"el348854605848592pts\"}, {\"edgecolor\": \"none\", \"facecolor\": \"#66A61E\", \"edgewidth\": 0.5, \"yindex\": 5, \"coordinates\": \"axes\", \"zorder\": 1000002.0, \"markerpath\": [[[0.0, 9.0], [2.3868279, 9.0], [4.676218837063681, 8.051703224294176], [6.3639610306789285, 6.3639610306789285], [8.051703224294176, 4.676218837063681], [9.0, 2.3868279], [9.0, 0.0], [9.0, -2.3868279], [8.051703224294176, -4.676218837063681], [6.3639610306789285, -6.3639610306789285], [4.676218837063681, -8.051703224294176], [2.3868279, -9.0], [0.0, -9.0], [-2.3868279, -9.0], [-4.676218837063681, -8.051703224294176], [-6.3639610306789285, -6.3639610306789285], [-8.051703224294176, -4.676218837063681], [-9.0, -2.3868279], [-9.0, 0.0], [-9.0, 2.3868279], [-8.051703224294176, 4.676218837063681], [-6.3639610306789285, 6.3639610306789285], [-4.676218837063681, 8.051703224294176], [-2.3868279, 9.0], [0.0, 9.0]], [\"M\", \"C\", \"C\", \"C\", \"C\", \"C\", \"C\", \"C\", \"C\", \"Z\"]], \"alpha\": 1, \"xindex\": 0, \"data\": \"data06\", \"id\": \"el348854605905744pts\"}], \"id\": \"el348854541852880\", \"ydomain\": [-0.70830339802964049, 0.69370701811001245], \"collections\": [], \"xscale\": \"linear\", \"bbox\": [0.125, 0.125, 0.77500000000000002, 0.77500000000000002]}], \"height\": 480.0, \"width\": 1120.0, \"plugins\": [{\"type\": \"reset\"}, {\"enabled\": false, \"button\": true, \"type\": \"zoom\"}, {\"enabled\": false, \"button\": true, \"type\": \"boxzoom\"}, {\"voffset\": 10, \"labels\": [\"Schindler's List\", \"One Flew Over the Cuckoo's Nest\", \"Gone with the Wind\", \"The Wizard of Oz\", \"Titanic\", \"Forrest Gump\", \"E.T. the Extra-Terrestrial\", \"The Silence of the Lambs\", \"Gandhi\", \"A Streetcar Named Desire\", \"The Best Years of Our Lives\", \"My Fair Lady\", \"Ben-Hur\", \"Doctor Zhivago\", \"The Pianist\", \"The Exorcist\", \"Out of Africa\", \"Good Will Hunting\", \"Terms of Endearment\", \"Giant\", \"The Grapes of Wrath\", \"Close Encounters of the Third Kind\", \"The Graduate\", \"Stagecoach\", \"Wuthering Heights\"], \"type\": \"htmltooltip\", \"id\": \"el348854597029712pts\", \"hoffset\": 10}, {\"type\": \"toptoolbar\"}, {\"voffset\": 10, \"labels\": [\"Casablanca\", \"Psycho\", \"Sunset Blvd.\", \"Vertigo\", \"Chinatown\", \"Amadeus\", \"High Noon\", \"The French Connection\", \"Fargo\", \"Pulp Fiction\", \"The Maltese Falcon\", \"A Clockwork Orange\", \"Double Indemnity\", \"Rebel Without a Cause\", \"The Third Man\", \"North by Northwest\"], \"type\": \"htmltooltip\", \"id\": \"el348854597030096pts\", \"hoffset\": 10}, {\"type\": \"toptoolbar\"}, {\"voffset\": 10, \"labels\": [\"The Godfather\", \"Raging Bull\", \"Citizen Kane\", \"The Godfather: Part II\", \"On the Waterfront\", \"12 Angry Men\", \"Rocky\", \"To Kill a Mockingbird\", \"Braveheart\", \"The Good, the Bad and the Ugly\", \"The Apartment\", \"Goodfellas\", \"City Lights\", \"It Happened One Night\", \"Midnight Cowboy\", \"Mr. Smith Goes to Washington\", \"Rain Man\", \"Annie Hall\", \"Network\", \"Taxi Driver\", \"Rear Window\"], \"type\": \"htmltooltip\", \"id\": \"el348854522958160pts\", \"hoffset\": 10}, {\"type\": \"toptoolbar\"}, {\"voffset\": 10, \"labels\": [\"West Side Story\", \"Singin' in the Rain\", \"It's a Wonderful Life\", \"Some Like It Hot\", \"The Philadelphia Story\", \"An American in Paris\", \"The King's Speech\", \"A Place in the Sun\", \"Tootsie\", \"Nashville\", \"American Graffiti\", \"Yankee Doodle Dandy\"], \"type\": \"htmltooltip\", \"id\": \"el348854541027280pts\", \"hoffset\": 10}, {\"type\": \"toptoolbar\"}, {\"voffset\": 10, \"labels\": [\"The Shawshank Redemption\", \"Lawrence of Arabia\", \"The Sound of Music\", \"Star Wars\", \"2001: A Space Odyssey\", \"The Bridge on the River Kwai\", \"Dr. Strangelove or: How I Learned to Stop Worrying and Love the Bomb\", \"Apocalypse Now\", \"The Lord of the Rings: The Return of the King\", \"Gladiator\", \"From Here to Eternity\", \"Saving Private Ryan\", \"Unforgiven\", \"Raiders of the Lost Ark\", \"Patton\", \"Jaws\", \"Butch Cassidy and the Sundance Kid\", \"The Treasure of the Sierra Madre\", \"Platoon\", \"Dances with Wolves\", \"The Deer Hunter\", \"All Quiet on the Western Front\", \"Shane\", \"The Green Mile\", \"The African Queen\", \"Mutiny on the Bounty\"], \"type\": \"htmltooltip\", \"id\": \"el348854524497104pts\", \"hoffset\": 10}, {\"type\": \"toptoolbar\"}], \"data\": {\"data06\": [[0.7544462845622121, 0.9534050179211467, 0.9005376344086019, 0.8476702508960573, 0.7948028673835125, 0.7419354838709676]], \"data07\": [[0.7329409082181261, 0.7069892473118278], [0.9923195084485409, 0.7069892473118278], [0.9923195084485409, 0.9820788530465947], [0.7329409082181261, 0.9820788530465947], [0.7329409082181261, 0.7069892473118278]], \"data04\": [[-0.48383166475045314, 0.17406382605759155], [-0.3431621006015567, 0.6339455084054434], [0.42023926967786635, 0.585073332726518], [-0.17325065040967416, 0.23163649164649666], [0.6705408517106365, 0.1152867311811776], [-0.20507682543002934, 0.5602431727781544], [0.4029759387982718, 0.4993894350885348], [0.6671527866782192, 0.2655632808140779], [-0.02368751477042728, 0.34058596130883056], [0.06057638900463016, 0.6101307798961454], [-0.6012117652228453, -0.04229065076764765], [0.6299986440743635, 0.35408489380322294]], \"data05\": [[0.4425217895905002, -0.2796139796878817], [-0.24776866601229716, -0.5782685424165561], [0.5555461511292237, 0.486954891259419], [0.19708753275222002, -0.38902709232046384], [0.3497144798998901, -0.338553421833173], [-0.07419701411754268, -0.5782948227044011], [-0.014592308929045296, -0.6368511048162793], [0.025373394060233537, -0.634289200597481], [0.24399849236205579, -0.5034936076710894], [0.07277111225479607, -0.47961483445651304], [-0.1519065165847722, -0.338080020776755], [-0.015830214134386178, -0.36229007847066996], [-0.13402784922090072, -0.3012324095400005], [-0.23474733283083896, -0.4502062748678493], [0.12924047876683878, -0.6686238579502164], [0.08194147679809109, -0.3929722898416771], [-0.34747538257781435, -0.3233751877512795], [-0.3631413985443942, -0.4813272206475685], [-0.09731550319802962, -0.505864130911545], [0.18513473762402247, -0.5781596431297301], [-0.09597244991104013, -0.19942409220233107], [-0.18228725458498232, -0.5566467223632475], [-0.551994202072232, 0.33486446230226674], [-0.5679692454857176, -0.35356444529282777], [-0.45369369757595834, -0.44434234569143366], [0.3366116741827183, -0.6447240310583208]], \"data02\": [[-0.2476475600239232, -0.26290199748846194], [-0.22919155130164443, 0.06968880208772948], [-0.42967373628736466, 0.28652830354480197], [-0.3531795894914802, 0.12742474874876483], [-0.5517590615479852, -0.22488031423191712], [0.4134372284409409, 0.40907893375027393], [-0.6619219366770693, -0.20578641688667848], [-0.4603909162269872, 0.008430725029157468], [-0.3422448822106277, 0.03699561151307461], [-0.3438274431555653, -0.06956150821349773], [-0.3384187737692901, -0.1515124959398215], [-0.18283874549876644, 0.14829844310283077], [-0.46586683087784553, -0.09919136771199337], [-0.577910557660688, 0.28870430670538155], [-0.20956788370183355, -0.0574148454899521], [-0.20029308653202116, 0.00718931223386455]], \"data03\": [[0.18558490034956887, -0.01077771968604301], [-0.13262115988334475, 0.5751789037009231], [0.016222043434641144, 0.4652342083561871], [0.07240937947290513, 0.13247203862675336], [-0.05239281560115413, 0.12267112673062845], [0.5241688637949986, 0.14425768177773893], [-0.2825557188697044, 0.2745647039405087], [0.21864153351095966, 0.22101476971173736], [0.49293979852148206, -0.1406180288639719], [-0.07221741889036004, 0.5688366094319275], [-0.5967680343768968, 0.1894475004960752], [0.2030557040289471, 0.06941302351286169], [0.5649139525233913, 0.34616110908884656], [-0.42188287709302075, 0.4618936364485825], [-0.30512268820937116, 0.4768633838569787], [0.6449291941438089, -0.15516297397920956], [-0.18081125741175175, 0.4765240199441122], [-0.027643220902818993, 0.6540274780305884], [0.6687778032882542, -0.08795572251657516], [-0.5534118533588518, 0.02875489034480997], [-0.5807159767006421, 0.10579656075156939]], \"data01\": [[-0.0777242299467317, -0.4515361500051302], [0.05143904563855998, 0.25947569793979247], [0.05926003443907459, -0.04759931281928853], [-0.4336747338877505, -0.2971244895104658], [0.6035469203843735, -0.3456193989894745], [0.35577780891092403, 0.007409352966807421], [-0.019806795422961994, -0.044100107912120406], [0.5183164260703591, -0.25353575550390045], [0.43257291891111244, 0.1381593571372851], [0.3437182373924481, 0.24527960034963084], [0.31733764740406106, 0.08349042218139716], [-0.19661734109288, 0.39627304179640405], [0.3443594003836902, -0.13069722017172503], [0.1620196922509593, -0.11876438020876365], [0.1563956093287554, -0.21269443337356803], [0.17499103541231237, 0.2985373547088241], [0.12782499859472804, 0.4815648223887244], [0.12523150357922094, 0.41721548160929905], [0.2219315942794893, 0.47877846167983906], [0.48413541386850095, 0.008757361949769692], [0.4755390685857624, -0.4356393509319867], [0.27427215751846695, -0.2940897904508699], [-0.32213342140019896, 0.33175887910243107], [0.3241754832842173, -0.45547190176887226], [0.18462105786497715, 0.5797922578764358]]}, \"id\": \"el348854595386064\"});\n",
              "            })\n",
              "         });\n",
              "}\n",
              "</script>"
            ],
            "text/plain": [
              "<IPython.core.display.HTML at 0x11287a090>"
            ]
          },
          "metadata": {
            "tags": []
          },
          "execution_count": 58
        }
      ]
    },
    {
      "cell_type": "markdown",
      "metadata": {
        "id": "7wfyUEd-QY22",
        "colab_type": "text"
      },
      "source": [
        "# Hierarchical document clustering"
      ]
    },
    {
      "cell_type": "code",
      "metadata": {
        "id": "x2tna42GQY2-",
        "colab_type": "code",
        "colab": {},
        "outputId": "d3176e54-b280-4db7-f464-ece686762385"
      },
      "source": [
        "from scipy.cluster.hierarchy import ward, dendrogram\n",
        "\n",
        "linkage_matrix = ward(dist) #define the linkage_matrix using ward clustering pre-computed distances\n",
        "\n",
        "fig, ax = plt.subplots(figsize=(15, 20)) # set size\n",
        "ax = dendrogram(linkage_matrix, orientation=\"right\", labels=titles);\n",
        "\n",
        "plt.tick_params(\\\n",
        "    axis= 'x',          # changes apply to the x-axis\n",
        "    which='both',      # both major and minor ticks are affected\n",
        "    bottom='off',      # ticks along the bottom edge are off\n",
        "    top='off',         # ticks along the top edge are off\n",
        "    labelbottom='off')\n",
        "\n",
        "plt.tight_layout() #show plot with tight layout\n",
        "\n",
        "#uncomment below to save figure\n",
        "plt.savefig('ward_clusters.png', dpi=200) #save figure as ward_clusters"
      ],
      "execution_count": null,
      "outputs": [
        {
          "output_type": "display_data",
          "data": {
            "image/png": "[encoded data removed]",
            "text/plain": [
              "<matplotlib.figure.Figure at 0x10d583e90>"
            ]
          },
          "metadata": {
            "tags": []
          }
        }
      ]
    },
    {
      "cell_type": "code",
      "metadata": {
        "id": "9nrB2RfWQY3f",
        "colab_type": "code",
        "colab": {}
      },
      "source": [
        "plt.close()"
      ],
      "execution_count": null,
      "outputs": []
    },
    {
      "cell_type": "markdown",
      "metadata": {
        "id": "5y1hMwMEQY4X",
        "colab_type": "text"
      },
      "source": [
        "# Latent Dirichlet Allocation"
      ]
    },
    {
      "cell_type": "code",
      "metadata": {
        "id": "BQL5zAIBQY4r",
        "colab_type": "code",
        "colab": {}
      },
      "source": [
        "#strip any proper names from a text...unfortunately right now this is yanking the first word from a sentence too.\n",
        "import string\n",
        "def strip_proppers(text):\n",
        "    # first tokenize by sentence, then by word to ensure that punctuation is caught as it's own token\n",
        "    tokens = [word for sent in nltk.sent_tokenize(text) for word in nltk.word_tokenize(sent) if word.islower()]\n",
        "    return \"\".join([\" \"+i if not i.startswith(\"'\") and i not in string.punctuation else i for i in tokens]).strip()"
      ],
      "execution_count": null,
      "outputs": []
    },
    {
      "cell_type": "code",
      "metadata": {
        "id": "sbiua6iRQY5L",
        "colab_type": "code",
        "colab": {}
      },
      "source": [
        "#strip any proper nouns (NNP) or plural proper nouns (NNPS) from a text\n",
        "from nltk.tag import pos_tag\n",
        "\n",
        "def strip_proppers_POS(text):\n",
        "    tagged = pos_tag(text.split()) #use NLTK's part of speech tagger\n",
        "    non_propernouns = [word for word,pos in tagged if pos != 'NNP' and pos != 'NNPS']\n",
        "    return non_propernouns"
      ],
      "execution_count": null,
      "outputs": []
    },
    {
      "cell_type": "code",
      "metadata": {
        "id": "kpkh5KT3QY54",
        "colab_type": "code",
        "colab": {},
        "outputId": "c3a20c93-b48a-4c3e-c411-60e72fc436c7"
      },
      "source": [
        "#Latent Dirichlet Allocation implementation with Gensim\n",
        "\n",
        "from gensim import corpora, models, similarities \n",
        "\n",
        "#remove proper names\n",
        "preprocess = [strip_proppers(doc) for doc in synopses]\n",
        "\n",
        "%time tokenized_text = [tokenize_and_stem(text) for text in preprocess]\n",
        "\n",
        "%time texts = [[word for word in text if word not in stopwords] for text in tokenized_text]"
      ],
      "execution_count": null,
      "outputs": [
        {
          "output_type": "stream",
          "text": [
            "CPU times: user 15.4 s, sys: 142 ms, total: 15.6 s\n",
            "Wall time: 19 s\n",
            "CPU times: user 4.38 s, sys: 22.2 ms, total: 4.4 s\n",
            "Wall time: 4.6 s\n"
          ],
          "name": "stdout"
        }
      ]
    },
    {
      "cell_type": "code",
      "metadata": {
        "id": "cVVxkr01QY6W",
        "colab_type": "code",
        "colab": {},
        "outputId": "b0fdb01b-5a95-41d6-f188-feda2ea4404e"
      },
      "source": [
        "#print(len([word for word in texts[0] if word not in stopwords]))\n",
        "print(len(texts[0]))"
      ],
      "execution_count": null,
      "outputs": [
        {
          "output_type": "stream",
          "text": [
            "1839\n"
          ],
          "name": "stdout"
        }
      ]
    },
    {
      "cell_type": "code",
      "metadata": {
        "id": "t1AqRZyEQY65",
        "colab_type": "code",
        "colab": {}
      },
      "source": [
        "dictionary = corpora.Dictionary(texts)"
      ],
      "execution_count": null,
      "outputs": []
    },
    {
      "cell_type": "code",
      "metadata": {
        "id": "0fwhT2W5QY7Z",
        "colab_type": "code",
        "colab": {}
      },
      "source": [
        "dictionary.filter_extremes(no_below=1, no_above=0.8)"
      ],
      "execution_count": null,
      "outputs": []
    },
    {
      "cell_type": "code",
      "metadata": {
        "id": "-b0cZpIrQY8P",
        "colab_type": "code",
        "colab": {}
      },
      "source": [
        "corpus = [dictionary.doc2bow(text) for text in texts]"
      ],
      "execution_count": null,
      "outputs": []
    },
    {
      "cell_type": "code",
      "metadata": {
        "id": "WfLYbhOSQY81",
        "colab_type": "code",
        "colab": {},
        "outputId": "5cf6af5c-1004-4678-b260-3ee9e92dc93a"
      },
      "source": [
        "len(corpus)"
      ],
      "execution_count": null,
      "outputs": [
        {
          "output_type": "execute_result",
          "data": {
            "text/plain": [
              "100"
            ]
          },
          "metadata": {
            "tags": []
          },
          "execution_count": 94
        }
      ]
    },
    {
      "cell_type": "code",
      "metadata": {
        "id": "yZlXmK0tQY9b",
        "colab_type": "code",
        "colab": {},
        "outputId": "58811a1d-15de-42f7-d315-e0ce419ea94e"
      },
      "source": [
        "%time lda = models.LdaModel(corpus, num_topics=5, id2word=dictionary, update_every=5, chunksize=10000, passes=100)"
      ],
      "execution_count": null,
      "outputs": [
        {
          "output_type": "stream",
          "text": [
            "CPU times: user 9min 48s, sys: 3.98 s, total: 9min 52s\n",
            "Wall time: 11min 43s\n"
          ],
          "name": "stdout"
        }
      ]
    },
    {
      "cell_type": "code",
      "metadata": {
        "id": "hP4VkIwlQY9y",
        "colab_type": "code",
        "colab": {},
        "outputId": "42e7b92a-f30f-4f4b-c29a-54c9025e528b"
      },
      "source": [
        "print(lda[corpus[0]])"
      ],
      "execution_count": null,
      "outputs": [
        {
          "output_type": "stream",
          "text": [
            "[(1, 0.14010786617821663), (2, 0.2389980721391618), (3, 0.080853026271803449), (4, 0.53991713521730689)]\n"
          ],
          "name": "stdout"
        }
      ]
    },
    {
      "cell_type": "code",
      "metadata": {
        "id": "79eGQBdDQY-Z",
        "colab_type": "code",
        "colab": {}
      },
      "source": [
        "topics = lda.print_topics(5, num_words=20)"
      ],
      "execution_count": null,
      "outputs": []
    },
    {
      "cell_type": "code",
      "metadata": {
        "id": "A3PsdaiWQY_E",
        "colab_type": "code",
        "colab": {}
      },
      "source": [
        "topics_matrix = lda.show_topics(formatted=False, num_words=20)"
      ],
      "execution_count": null,
      "outputs": []
    },
    {
      "cell_type": "code",
      "metadata": {
        "id": "sA7lfaiZQY_r",
        "colab_type": "code",
        "colab": {}
      },
      "source": [
        "topics_matrix = np.array(topics_matrix)"
      ],
      "execution_count": null,
      "outputs": []
    },
    {
      "cell_type": "code",
      "metadata": {
        "id": "yBPIyJ_5QZAK",
        "colab_type": "code",
        "colab": {},
        "outputId": "542d94ac-8830-47bf-cfef-919e6d432d34"
      },
      "source": [
        "topics_matrix.shape"
      ],
      "execution_count": null,
      "outputs": [
        {
          "output_type": "execute_result",
          "data": {
            "text/plain": [
              "(5, 20, 2)"
            ]
          },
          "metadata": {
            "tags": []
          },
          "execution_count": 145
        }
      ]
    },
    {
      "cell_type": "code",
      "metadata": {
        "id": "7Bze5_8GQZAm",
        "colab_type": "code",
        "colab": {}
      },
      "source": [
        "topic_words = topics_matrix[:,:,1]"
      ],
      "execution_count": null,
      "outputs": []
    },
    {
      "cell_type": "code",
      "metadata": {
        "id": "6KbtNSwVQZBe",
        "colab_type": "code",
        "colab": {},
        "outputId": "191d2c73-84e9-4a0f-c9b5-d866e7cc4c42"
      },
      "source": [
        "for i in topic_words:\n",
        "    print([str(word) for word in i])\n",
        "    print()"
      ],
      "execution_count": null,
      "outputs": [
        {
          "output_type": "stream",
          "text": [
            "['famili', 'murder', 'prison', 'work', 'kill', 'life', 'guard', 'way', \"n't\", 'two', 'meet', 'would', 'death', 'say', 'll', 'vote', 'becom', 'ask', 'guilti', 'peopl']\n",
            "\n",
            "['love', 'marri', 'go', 'home', 'friend', 'show', 'day', 'father', 'meet', 'want', \"n't\", 'night', 'doe', 'apart', 'famili', 'work', 'film', 'first', 'sing', 'come']\n",
            "\n",
            "['kill', 'meet', 'arriv', 'first', 'two', 'order', 'escap', 'friend', 'say', 'famili', 'ask', 'call', 'attempt', 'father', 'later', 'refus', \"n't\", 'offer', 'name', 'away']\n",
            "\n",
            "['kill', 'soldier', 'men', 'order', 'shark', 'command', 'attack', 'water', 'war', 'offic', 'arriv', 'boat', 'die', 'wound', 'two', 'attempt', 'villag', 'fire', 'battl', 'shoot']\n",
            "\n",
            "['car', 'ask', 'polic', 'home', \"n't\", 'go', 'say', 'kill', 'run', 'hous', 'goe', 'two', 'friend', 'day', 'call', 'come', 'drive', 'meet', 'doe', 'away']\n",
            "\n"
          ],
          "name": "stdout"
        }
      ]
    }
  ]
}