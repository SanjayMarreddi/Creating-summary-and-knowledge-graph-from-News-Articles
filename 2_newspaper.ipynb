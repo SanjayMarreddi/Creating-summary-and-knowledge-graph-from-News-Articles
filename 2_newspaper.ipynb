{
  "nbformat": 4,
  "nbformat_minor": 0,
  "metadata": {
    "kernelspec": {
      "display_name": "Python 3",
      "language": "python",
      "name": "python3"
    },
    "language_info": {
      "codemirror_mode": {
        "name": "ipython",
        "version": 3
      },
      "file_extension": ".py",
      "mimetype": "text/x-python",
      "name": "python",
      "nbconvert_exporter": "python",
      "pygments_lexer": "ipython3",
      "version": "3.7.3"
    },
    "colab": {
      "name": "2.newspaper.ipynb",
      "provenance": [],
      "collapsed_sections": [],
      "include_colab_link": true
    }
  },
  "cells": [
    {
      "cell_type": "markdown",
      "metadata": {
        "id": "view-in-github",
        "colab_type": "text"
      },
      "source": [
        "<a href=\"https://colab.research.google.com/github/SanjayMarreddi/Creating-summary-and-knowledge-graph-from-News-Articles/blob/master/2_newspaper.ipynb\" target=\"_parent\"><img src=\"https://colab.research.google.com/assets/colab-badge.svg\" alt=\"Open In Colab\"/></a>"
      ]
    },
    {
      "cell_type": "code",
      "metadata": {
        "id": "EU0Mo4zWPLiX",
        "colab_type": "code",
        "colab": {}
      },
      "source": [
        "!pip3 install newspaper3k"
      ],
      "execution_count": null,
      "outputs": []
    },
    {
      "cell_type": "code",
      "metadata": {
        "id": "jK27567XL8j6",
        "colab_type": "code",
        "colab": {
          "base_uri": "https://localhost:8080/",
          "height": 52
        },
        "outputId": "f60876b0-aee7-4bba-a803-62040295509e"
      },
      "source": [
        "#pip install newspaper3k\n",
        "#pip install nltk\n",
        "\n",
        "# No need to use bs4,....\n",
        "\n",
        "from newspaper import Article\n",
        "import nltk\n",
        "nltk.download('punkt')\n",
        "\n",
        "url1 = 'http://fox13now.com/2013/12/30/new-year-new-laws-obamacare-pot-guns-and-drones/'\n",
        "urls = [\n",
        "    'http://fox13now.com/2013/12/30/new-year-new-laws-obamacare-pot-guns-and-drones/',\n",
        "    'https://timesofindia.indiatimes.com/entertainment/hindi/bollywood/news/sushant-singh-rajputs-family-releases-a-9-page-open-letter-reveal-they-have-have-been-receiving-threats/articleshow/77499660.cms',\n",
        "    'https://zeenews.india.com/people/exclusive-sushant-singh-rajputs-handwritten-notes-show-how-he-prepared-for-roles-in-films-and-his-vision-for-2020-2302333.html',\n",
        "    'https://www.news18.com/news/movies/sushant-singh-rajput-dath-case-lawyer-vikas-singh-calls-siddharth-pithani-intelligent-criminal-2780983.html',\n",
        "    'https://www.bbc.com/news/world-asia-india-53047596',\n",
        "    'https://edition.cnn.com/2020/06/14/world/sushant-singh-rajput-death-trnd/index.html'\n",
        "]\n",
        "\n",
        "# article = Article('https://www.bbc.com/zhongwen/simp/chinese_news/2012/12/121210_hongkong_politics.shtml', language='zh')\n",
        "\n"
      ],
      "execution_count": 3,
      "outputs": [
        {
          "output_type": "stream",
          "text": [
            "[nltk_data] Downloading package punkt to /root/nltk_data...\n",
            "[nltk_data]   Unzipping tokenizers/punkt.zip.\n"
          ],
          "name": "stdout"
        }
      ]
    },
    {
      "cell_type": "code",
      "metadata": {
        "id": "c797SBBpL8kD",
        "colab_type": "code",
        "colab": {}
      },
      "source": [
        "def downloadandparse(url):\n",
        "    article = Article(url)\n",
        "    article.download()\n",
        "    article.parse()\n",
        "\n",
        "    article.nlp() # Tokenizes the Data\n",
        "    return article"
      ],
      "execution_count": 4,
      "outputs": []
    },
    {
      "cell_type": "code",
      "metadata": {
        "id": "K56fVeCXL8kG",
        "colab_type": "code",
        "colab": {}
      },
      "source": [
        "articles = list()\n",
        "for url in urls:\n",
        "    articles.append(downloadandparse(url))"
      ],
      "execution_count": 5,
      "outputs": []
    },
    {
      "cell_type": "code",
      "metadata": {
        "id": "cxFAKRvDL8kJ",
        "colab_type": "code",
        "colab": {
          "base_uri": "https://localhost:8080/",
          "height": 35
        },
        "outputId": "dc93ac74-3785-44aa-f262-e32c687ddc5a"
      },
      "source": [
        "articles[5].summary\n",
        "articles[5].authors\n",
        "articles[5].top_image\n",
        "# Check the Documentation for more Info"
      ],
      "execution_count": 8,
      "outputs": [
        {
          "output_type": "execute_result",
          "data": {
            "application/vnd.google.colaboratory.intrinsic+json": {
              "type": "string"
            },
            "text/plain": [
              "'https://cdn.cnn.com/cnnnext/dam/assets/200614084611-sushant-singh-rajput-restricted-super-tease.jpg'"
            ]
          },
          "metadata": {
            "tags": []
          },
          "execution_count": 8
        }
      ]
    },
    {
      "cell_type": "code",
      "metadata": {
        "id": "KO66UfQWL8kM",
        "colab_type": "code",
        "colab": {}
      },
      "source": [
        ""
      ],
      "execution_count": null,
      "outputs": []
    },
    {
      "cell_type": "code",
      "metadata": {
        "id": "iw9-qHrhSjpr",
        "colab_type": "code",
        "colab": {}
      },
      "source": [
        "import spacy # For NLP\n",
        "nlp =spacy.load(\"en_core_web_lg\")\n",
        "\n",
        "doc = nlp (\"Apple is looking at buying  \")\n",
        "\n",
        "for token in doc:\n",
        "  print(token.text,token.lemma_,token.pos_) # lemma_ has Stemmed Parts\n",
        "                                            # pos_ assigns Parts of Speech\n",
        "\n",
        "\n",
        "for  ent in doc.ents:           # Entitites\n",
        "  print(ent.text,ent.label_)\n"
      ],
      "execution_count": null,
      "outputs": []
    }
  ]
}